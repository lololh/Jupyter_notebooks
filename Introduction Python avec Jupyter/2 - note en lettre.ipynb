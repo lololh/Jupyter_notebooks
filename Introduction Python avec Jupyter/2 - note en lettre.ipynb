{
 "cells": [
  {
   "cell_type": "markdown",
   "metadata": {},
   "source": [
    "# Convertir une note en lettre"
   ]
  },
  {
   "cell_type": "markdown",
   "metadata": {},
   "source": [
    "On souhaite convertir une note comprise entre 0 et 20 en une lettre (A, B, C, D), suivant les critères ci-dessous :  \n",
    "\n",
    "|       Note      | Lettre |\n",
    "|:---------------:|:------:|\n",
    "|  0 < Note <= 5  |    D   |\n",
    "|  5 < Note <= 10 |    C   |\n",
    "| 10 < Note <= 15 |    B   |\n",
    "| 15 < Note <= 20 |    A   |\n",
    "\n",
    "Pour cela, on réalise l'algorithme suivant :  \n",
    "___  \n",
    ">**_Fonction note en lettre(note) :  _**\n",
    "\n",
    "\n",
    ">Entrées : note : un réel  \n",
    ">Sortie : un affichage à l’écran  \n",
    "    \n",
    ">DEBUT  \n",
    ">>SI note <= 5 :  \n",
    "    >>>   lettre ← ‘D’   \n",
    ">>\n",
    ">>   SINONSI note > 5 ET note <= 10 :  \n",
    "    >>>\tlettre ← ‘C’       \n",
    ">>\n",
    ">>\tSINONSI note > 10 ET note <= 15 :  \n",
    "    >>>\tlettre ← ‘B’      \n",
    ">>\n",
    ">>\tSINON  :  \n",
    "    >>>\tlettre ← ‘A’          \n",
    ">>\n",
    ">>\tFINSI  \n",
    ">>\n",
    ">>\tRetourner lettre  \n",
    ">\n",
    ">\tFIN  \n",
    "\n",
    "***\n",
    "\n",
    "Complétez la fonction ci-dessous, puis cliquez sur `Run` pour exécuter le code."
   ]
  },
  {
   "cell_type": "code",
   "execution_count": 15,
   "metadata": {},
   "outputs": [],
   "source": [
    "def note_en_lettre(note):\n",
    "    \"\"\" fonction qui convertit une note en une lettre\n",
    "    entrée : une note comprise entre 0 et 20 (bornes incluses)\n",
    "    sortie : une lettre A, B, C ou D\n",
    "    \"\"\"\n",
    "\n",
    "    if note<=5:\n",
    "        lettre = 'D'\n",
    "    elif note >5 and note <=10:\n",
    "        lettre = 'C'\n",
    "    elif note >=10 and note <=15:\n",
    "        lettre = 'B'\n",
    "    elif note >15:\n",
    "        lettre = 'A'\n",
    "    return lettre"
   ]
  },
  {
   "cell_type": "markdown",
   "metadata": {},
   "source": [
    "Vérifiez que votre code fonctionne en exécutant les lignes ci-dessous (Si tout va bien vous obtenez que des indications :\n",
    "``` python \n",
    "True\n",
    "``` "
   ]
  },
  {
   "cell_type": "code",
   "execution_count": 16,
   "metadata": {},
   "outputs": [
    {
     "data": {
      "text/plain": [
       "True"
      ]
     },
     "execution_count": 16,
     "metadata": {},
     "output_type": "execute_result"
    }
   ],
   "source": [
    "# Jeu d'essai\n",
    "note_en_lettre(20)=='A'"
   ]
  },
  {
   "cell_type": "code",
   "execution_count": 17,
   "metadata": {},
   "outputs": [
    {
     "data": {
      "text/plain": [
       "True"
      ]
     },
     "execution_count": 17,
     "metadata": {},
     "output_type": "execute_result"
    }
   ],
   "source": [
    "note_en_lettre(15)=='B'"
   ]
  },
  {
   "cell_type": "code",
   "execution_count": 18,
   "metadata": {},
   "outputs": [
    {
     "data": {
      "text/plain": [
       "True"
      ]
     },
     "execution_count": 18,
     "metadata": {},
     "output_type": "execute_result"
    }
   ],
   "source": [
    "note_en_lettre(10)=='C'"
   ]
  },
  {
   "cell_type": "code",
   "execution_count": 19,
   "metadata": {},
   "outputs": [
    {
     "data": {
      "text/plain": [
       "True"
      ]
     },
     "execution_count": 19,
     "metadata": {},
     "output_type": "execute_result"
    }
   ],
   "source": [
    "note_en_lettre(5)=='D'"
   ]
  },
  {
   "cell_type": "code",
   "execution_count": 20,
   "metadata": {},
   "outputs": [
    {
     "data": {
      "text/plain": [
       "True"
      ]
     },
     "execution_count": 20,
     "metadata": {},
     "output_type": "execute_result"
    }
   ],
   "source": [
    "note_en_lettre(0)=='D'"
   ]
  },
  {
   "cell_type": "markdown",
   "metadata": {},
   "source": [
    "On souhaite connaître la lettre associée à la note 12,5. Indiquez dans la cellule ci-dessous la ligne de code qu'il faut exécuter."
   ]
  },
  {
   "cell_type": "code",
   "execution_count": null,
   "metadata": {},
   "outputs": [],
   "source": [
    "note_en_lette(12,5)"
   ]
  }
 ],
 "metadata": {
  "kernelspec": {
   "display_name": "Python 3",
   "language": "python",
   "name": "python3"
  },
  "language_info": {
   "codemirror_mode": {
    "name": "ipython",
    "version": 3
   },
   "file_extension": ".py",
   "mimetype": "text/x-python",
   "name": "python",
   "nbconvert_exporter": "python",
   "pygments_lexer": "ipython3",
   "version": "3.8.3"
  }
 },
 "nbformat": 4,
 "nbformat_minor": 2
}
