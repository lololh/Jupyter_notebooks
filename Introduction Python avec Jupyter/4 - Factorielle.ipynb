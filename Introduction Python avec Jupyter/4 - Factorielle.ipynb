{
 "cells": [
  {
   "cell_type": "markdown",
   "metadata": {},
   "source": [
    "# Factorielle d'un nombre"
   ]
  },
  {
   "cell_type": "markdown",
   "metadata": {},
   "source": [
    "En mathématiques, la factorielle d'un entier naturel n est le produit des nombres entiers strictement positifs inférieurs ou égaux à n. Cette opération est notée avec un point d'exclamation, n!, ce qui se lit « factorielle de n ». \n",
    "Par exemple, on a :  \n",
    "    >1! = 1  \n",
    "    >2! = 1 × 2 = 2  \n",
    "    >3! = 1 × 2 × 3 = 6  \n",
    "\n",
    "On souhaite écrire un programme qui calcule factorielle de n, un entier demandé à l’utilisateur au début du programme.\n",
    "\n",
    ">**_Fonction factorielle(nombre)_**\n",
    "\n",
    ">Entrées : nombre : un entier  \n",
    ">Sortie : un affichage à l’écran  \n",
    "\t>>DÉBUT\n",
    "\t\t>>>factorielle $\\leftarrow$  1  \n",
    "\t\t>>>POUR i allant de 1 à nombre par pas de 1 FAIRE :  \n",
    "\t\t\t>>>>factorielle $\\leftarrow$ factorielle *  i\n",
    "\t\t>>>FIN POUR  \n",
    "        >>>\n",
    "\t\t>>>Retourner (factorielle)  \n",
    "    >>\n",
    "\t>>FIN\n",
    "\n",
    "Codez l'algorithme ci-dessus, puis cliquez sur `Run`."
   ]
  },
  {
   "cell_type": "code",
   "execution_count": 1,
   "metadata": {},
   "outputs": [],
   "source": [
    "def factorielle(nombre):\n",
    "    \"\"\"calcul de la factorielle d'un nombre\n",
    "    entrée : un entier\n",
    "    sortie : la factorielle de cette entrée\n",
    "    exemple : factorielle(5) = 5 x 4 x 3 x 2 x 1 = 120\n",
    "    \"\"\"\n",
    "    \n",
    "    ## Indiquez ici votre code\n",
    "    \n",
    "    return fact"
   ]
  },
  {
   "cell_type": "markdown",
   "metadata": {},
   "source": [
    "Vérifiez votre code en exécutant les lignes ci-dessous. Si tout va bien vous obtenez que des indications :\n",
    "``` python \n",
    "True\n",
    "```"
   ]
  },
  {
   "cell_type": "code",
   "execution_count": null,
   "metadata": {},
   "outputs": [],
   "source": [
    "# Jeu d'essai\n",
    "factorielle(0)==1"
   ]
  },
  {
   "cell_type": "code",
   "execution_count": null,
   "metadata": {},
   "outputs": [],
   "source": [
    "factorielle(5)==120"
   ]
  },
  {
   "cell_type": "markdown",
   "metadata": {},
   "source": [
    "On souhaite connaître la factorielle de 12. Indiquez dans la cellule ci-dessous la ligne de code qu'il faut exécuter."
   ]
  },
  {
   "cell_type": "code",
   "execution_count": null,
   "metadata": {},
   "outputs": [],
   "source": [
    "## Placez ici votre code"
   ]
  }
 ],
 "metadata": {
  "kernelspec": {
   "display_name": "Python 3",
   "language": "python",
   "name": "python3"
  },
  "language_info": {
   "codemirror_mode": {
    "name": "ipython",
    "version": 3
   },
   "file_extension": ".py",
   "mimetype": "text/x-python",
   "name": "python",
   "nbconvert_exporter": "python",
   "pygments_lexer": "ipython3",
   "version": "3.7.2"
  }
 },
 "nbformat": 4,
 "nbformat_minor": 2
}
