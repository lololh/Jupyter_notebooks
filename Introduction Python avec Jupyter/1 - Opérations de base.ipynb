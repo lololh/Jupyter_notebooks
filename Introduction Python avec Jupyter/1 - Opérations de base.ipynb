{
 "cells": [
  {
   "cell_type": "markdown",
   "metadata": {},
   "source": [
    "# Somme et double de la somme de deux entiers"
   ]
  },
  {
   "cell_type": "markdown",
   "metadata": {},
   "source": [
    "On souhaite calculer la somme de deux entiers n1 et n2, ainsi que le double de cette somme. Pour cela on réalise l'algorithme suivant :  \n",
    "***  \n",
    "**_fonction somme et double de la somme(n1,n2) :  _**\n",
    "\n",
    ">\tEntrées : deux nombres n1 et n2  \n",
    ">\tSorties : la somme et le double de la somme des nombres n1 et n2\n",
    "\n",
    ">\tDEBUT  \n",
    "    >>\tD ← 2*(n1 + n2)  \n",
    "    >>\tAfficher C, D  \n",
    "    \n",
    "    \n",
    ">FIN  \n",
    "***  \n",
    "Codez l'algorithme précédent dans le cadre ci-dessous, puis cliquez sur `Run` :"
   ]
  },
  {
   "cell_type": "code",
   "execution_count": 1,
   "metadata": {},
   "outputs": [],
   "source": [
    "def somme_double_somme(n1, n2):\n",
    "    \"\"\" calcule la somme et le double de la somme de deux entiers\n",
    "    entrée : deux entiers\n",
    "    sortie : la somme des deux entiers, et le double de la somme des deux entiers\"\"\"\n",
    "    somme = n1+n2;\n",
    "    double_somme = 2*(n1+n2)\n",
    "    ## insérer ici votre code Python\n",
    "    \n",
    "    return somme, double_somme"
   ]
  },
  {
   "cell_type": "markdown",
   "metadata": {},
   "source": [
    "Vérifiez votre réponse en exécutant les lignes suivantes :"
   ]
  },
  {
   "cell_type": "code",
   "execution_count": 2,
   "metadata": {},
   "outputs": [
    {
     "data": {
      "text/plain": [
       "True"
      ]
     },
     "execution_count": 2,
     "metadata": {},
     "output_type": "execute_result"
    }
   ],
   "source": [
    "# Jeu d'essai\n",
    "somme_double_somme(15,20)==(35,70)"
   ]
  },
  {
   "cell_type": "code",
   "execution_count": 3,
   "metadata": {},
   "outputs": [
    {
     "data": {
      "text/plain": [
       "True"
      ]
     },
     "execution_count": 3,
     "metadata": {},
     "output_type": "execute_result"
    }
   ],
   "source": [
    "somme_double_somme(15,0)==(15,30)"
   ]
  },
  {
   "cell_type": "code",
   "execution_count": 4,
   "metadata": {},
   "outputs": [
    {
     "data": {
      "text/plain": [
       "True"
      ]
     },
     "execution_count": 4,
     "metadata": {},
     "output_type": "execute_result"
    }
   ],
   "source": [
    "somme_double_somme(-15,20)==(5,10)"
   ]
  },
  {
   "cell_type": "code",
   "execution_count": 5,
   "metadata": {},
   "outputs": [
    {
     "data": {
      "text/plain": [
       "True"
      ]
     },
     "execution_count": 5,
     "metadata": {},
     "output_type": "execute_result"
    }
   ],
   "source": [
    "somme_double_somme(-15,-20)==(-35,-70)"
   ]
  },
  {
   "cell_type": "code",
   "execution_count": null,
   "metadata": {},
   "outputs": [],
   "source": []
  }
 ],
 "metadata": {
  "kernelspec": {
   "display_name": "Python 3",
   "language": "python",
   "name": "python3"
  },
  "language_info": {
   "codemirror_mode": {
    "name": "ipython",
    "version": 3
   },
   "file_extension": ".py",
   "mimetype": "text/x-python",
   "name": "python",
   "nbconvert_exporter": "python",
   "pygments_lexer": "ipython3",
   "version": "3.8.3"
  }
 },
 "nbformat": 4,
 "nbformat_minor": 2
}
