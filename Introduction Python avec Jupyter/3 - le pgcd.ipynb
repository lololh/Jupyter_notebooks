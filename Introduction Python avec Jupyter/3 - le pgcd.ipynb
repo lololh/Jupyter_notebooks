{
 "cells": [
  {
   "cell_type": "markdown",
   "metadata": {},
   "source": [
    "# PGCD\n",
    "\n",
    "Le pgcd de deux nombres est le plus grand diviseur commun de deux entiers.\n",
    "\n",
    "Euclide (vers 300 Av J.-C.) a conçu un algorithme pour trouver ce nombre\n",
    "\n",
    "Algorithme d'euclide:<br>\n",
    "*Entrer* a, b: deux entier<br>\n",
    "*Sortie* le pgcd de a et b<br>\n",
    "*Variable* r: un entier<br>\n",
    "*Début*<br>\n",
    ">*Tant que* b≠0:<br>\n",
    ">>r ← le reste de la division de a par b <br>\n",
    ">>a ← b <br>\n",
    ">>b ← r <br>\n",
    ">\n",
    ">*Fin Tant Que* <br>\n",
    ">*retourner* (r) <br>\n",
    "\n",
    "*Fin*\n",
    "\n",
    "\n",
    "Coder cette algorithme en python."
   ]
  },
  {
   "cell_type": "code",
   "execution_count": 1,
   "metadata": {},
   "outputs": [],
   "source": [
    "def pgcd(a, b):\n",
    "    \"\"\"calcul le pgcd de a et b\"\"\""
   ]
  },
  {
   "cell_type": "code",
   "execution_count": null,
   "metadata": {},
   "outputs": [],
   "source": [
    "pgcd(72, 63) == 9"
   ]
  },
  {
   "cell_type": "code",
   "execution_count": null,
   "metadata": {},
   "outputs": [],
   "source": [
    "pgcd(789, 451) == 1"
   ]
  },
  {
   "cell_type": "code",
   "execution_count": null,
   "metadata": {},
   "outputs": [],
   "source": [
    "pgcd(455, 623) == 7"
   ]
  },
  {
   "cell_type": "code",
   "execution_count": null,
   "metadata": {},
   "outputs": [],
   "source": []
  }
 ],
 "metadata": {
  "kernelspec": {
   "display_name": "Python 3",
   "language": "python",
   "name": "python3"
  },
  "language_info": {
   "codemirror_mode": {
    "name": "ipython",
    "version": 3
   },
   "file_extension": ".py",
   "mimetype": "text/x-python",
   "name": "python",
   "nbconvert_exporter": "python",
   "pygments_lexer": "ipython3",
   "version": "3.7.4+"
  }
 },
 "nbformat": 4,
 "nbformat_minor": 2
}
