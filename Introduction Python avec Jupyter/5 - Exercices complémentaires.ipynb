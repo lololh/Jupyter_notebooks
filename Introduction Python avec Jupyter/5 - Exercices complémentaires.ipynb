{
 "cells": [
  {
   "cell_type": "markdown",
   "metadata": {},
   "source": [
    "# Exercices complémentaires"
   ]
  },
  {
   "cell_type": "markdown",
   "metadata": {},
   "source": [
    "Dans cette section, nous allons utiliser l'ensemble des instructions de base que nous avons vu :\n",
    "- l'affectation\n",
    "- le test\n",
    "- les boucles TANT QUE et POUR...FAIRE\n",
    "\n",
    "***"
   ]
  },
  {
   "cell_type": "markdown",
   "metadata": {},
   "source": [
    "## Exercice 1 : \n",
    "Écrivez une fonction qui demande à l'utilisateur d'entrer deux entiers, qui calcule la somme, la différence, le quotient et le reste de ces deux entiers\n",
    "\n",
    "*aide : quotient et reste font appel à la division euclidienne (http://www.educastream.com/division-euclidienne-6eme)*  \n",
    "- *quotient s'écrit //*  \n",
    "- *reste s'écrit %*\n",
    "\n",
    "Lorsque votre code est fini, cliquez sur `Run`."
   ]
  },
  {
   "cell_type": "code",
   "execution_count": 1,
   "metadata": {},
   "outputs": [],
   "source": [
    "def somme_diff_quotient_reste (n1,n2):\n",
    "    \"\"\" fonction qui  calcule la somme, la différence, le quotient et le reste de ces deux entiers\"\"\"\n",
    "    \n",
    "    ## tapez ici votre code\n",
    "    \n",
    "    return somme, difference, quotient, reste"
   ]
  },
  {
   "cell_type": "markdown",
   "metadata": {},
   "source": [
    "Vérifiez votre code en exécutant les lignes ci-dessous. Si tout va bien vous obtenez que des indications :\n",
    "``` python \n",
    "True\n",
    "``` "
   ]
  },
  {
   "cell_type": "code",
   "execution_count": null,
   "metadata": {},
   "outputs": [],
   "source": [
    "somme_diff_quotient_reste (12,25) == (37,-13,0,12)"
   ]
  },
  {
   "cell_type": "markdown",
   "metadata": {},
   "source": [
    "***"
   ]
  },
  {
   "cell_type": "markdown",
   "metadata": {},
   "source": [
    "## Exercice 2 :\n",
    "Depuis l'instauration du calendrier grégorien le 15 octobre 1582, est bissextile une année, soit divisible par 4 mais pas par 100, soit divisible par 400. \n",
    "\n",
    "Écrivez une fonction qui indique si une année donnée est bissextile.\n",
    "\n",
    "Lorsque votre code est fini, cliquez sur `Run`."
   ]
  },
  {
   "cell_type": "code",
   "execution_count": 3,
   "metadata": {},
   "outputs": [],
   "source": [
    "def bisextile(annee):\n",
    "    \"\"\"fonction qui indique si une année est bisextile\n",
    "    entrée : un entier (l'année)\n",
    "    sortie : une chaîne de caractères\n",
    "    \"\"\"\n",
    "    \n",
    "    ##insérez ici votre code python\n",
    "    \n",
    "    return affichage"
   ]
  },
  {
   "cell_type": "markdown",
   "metadata": {},
   "source": [
    "Vérifiez votre code en exécutant les lignes ci-dessous. Si tout va bien vous obtenez que des indications :\n",
    "``` python \n",
    "True\n",
    "``` "
   ]
  },
  {
   "cell_type": "code",
   "execution_count": null,
   "metadata": {},
   "outputs": [],
   "source": [
    "bisextile(2016) == \"bisextile\""
   ]
  },
  {
   "cell_type": "code",
   "execution_count": null,
   "metadata": {},
   "outputs": [],
   "source": [
    "bisextile(2015) == \"non bisextile\""
   ]
  },
  {
   "cell_type": "markdown",
   "metadata": {},
   "source": [
    "**Complément : **\n",
    "\n",
    "L'utilisation de la fonction peut se faire de cette façon :"
   ]
  },
  {
   "cell_type": "code",
   "execution_count": null,
   "metadata": {},
   "outputs": [],
   "source": [
    "annee = 2016\n",
    "f\"l'année {annee} est {bisextile(annee)}\" "
   ]
  },
  {
   "cell_type": "code",
   "execution_count": null,
   "metadata": {},
   "outputs": [],
   "source": [
    "annee = 2015\n",
    "f\"l'année {annee} est {bisextile(annee)}\" "
   ]
  },
  {
   "cell_type": "markdown",
   "metadata": {},
   "source": [
    "## Exercice 3 :"
   ]
  },
  {
   "cell_type": "markdown",
   "metadata": {},
   "source": [
    "Écrivez une fonction qui affiche le maximum entre trois nombres a, b et c.\n",
    "\n",
    "Lorsque votre code est fini, cliquez sur `Run`."
   ]
  },
  {
   "cell_type": "code",
   "execution_count": null,
   "metadata": {},
   "outputs": [],
   "source": [
    "def maximum (n1, n2, n3):\n",
    "    \"\"\"fonction qui détermine le maximum de trois entiers\n",
    "    Entrée : 3 entiers n1, n2 et n3\n",
    "    Sortie : le maximum de ces trois nombres\n",
    "    \"\"\"\n",
    "    \n",
    "    ## insérez ici votre code\n",
    "    \n",
    "    return max"
   ]
  },
  {
   "cell_type": "markdown",
   "metadata": {},
   "source": [
    "Vérifiez votre code en exécutant les lignes ci-dessous. Si tout va bien vous obtenez que des indications :\n",
    "``` python \n",
    "True\n",
    "``` "
   ]
  },
  {
   "cell_type": "code",
   "execution_count": null,
   "metadata": {},
   "outputs": [],
   "source": [
    "maximum(1,2,3) == 3"
   ]
  },
  {
   "cell_type": "code",
   "execution_count": null,
   "metadata": {},
   "outputs": [],
   "source": [
    "maximum(5,-1,8) == 8"
   ]
  },
  {
   "cell_type": "markdown",
   "metadata": {},
   "source": [
    "En utilisant cette fonction et la méthode vue précédemment, indiquer quel est le maximum entre les nombres 25, 23 et 85."
   ]
  },
  {
   "cell_type": "code",
   "execution_count": null,
   "metadata": {},
   "outputs": [],
   "source": [
    "## insérez ici votre code"
   ]
  },
  {
   "cell_type": "markdown",
   "metadata": {},
   "source": [
    "Insérez ici votre réponse (un double clic permet d'éditer la cellule)\n",
    "\n",
    ">*ma réponse ..............*\n"
   ]
  },
  {
   "cell_type": "markdown",
   "metadata": {},
   "source": [
    "En utilisant cette fonction et la méthode d'affichage vue à l'exercice 2, indiquer quel est le maximum entre les nombres résultant des calculs suivants :\n",
    "$27\\times12$ ; $150+170$ ; $\\frac{650}{2}$"
   ]
  },
  {
   "cell_type": "code",
   "execution_count": null,
   "metadata": {},
   "outputs": [],
   "source": [
    "## insérez ici votre code"
   ]
  },
  {
   "cell_type": "markdown",
   "metadata": {},
   "source": [
    "Insérez ici votre réponse (un double clic permet d'éditer la cellule)\n",
    "\n",
    ">*ma réponse ..............*\n"
   ]
  },
  {
   "cell_type": "code",
   "execution_count": null,
   "metadata": {},
   "outputs": [],
   "source": []
  }
 ],
 "metadata": {
  "kernelspec": {
   "display_name": "Python 3",
   "language": "python",
   "name": "python3"
  },
  "language_info": {
   "codemirror_mode": {
    "name": "ipython",
    "version": 3
   },
   "file_extension": ".py",
   "mimetype": "text/x-python",
   "name": "python",
   "nbconvert_exporter": "python",
   "pygments_lexer": "ipython3",
   "version": "3.7.2"
  }
 },
 "nbformat": 4,
 "nbformat_minor": 2
}
