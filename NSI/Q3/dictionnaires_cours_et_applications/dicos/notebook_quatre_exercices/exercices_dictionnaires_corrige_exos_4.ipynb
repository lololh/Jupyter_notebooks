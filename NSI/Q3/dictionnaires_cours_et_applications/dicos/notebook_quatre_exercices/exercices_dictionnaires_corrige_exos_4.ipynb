{
 "cells": [
  {
   "cell_type": "markdown",
   "metadata": {},
   "source": [
    "## Exercice 4 -  adresse de prise de vue d'une photo"
   ]
  },
  {
   "cell_type": "markdown",
   "metadata": {},
   "source": [
    "**Information n°1**  \n",
    "On peut récupérer une adresse postale française à partir de ses latitude et longitude expriméees en **degrés décimaux** :"
   ]
  },
  {
   "cell_type": "code",
   "execution_count": 1,
   "metadata": {},
   "outputs": [
    {
     "data": {
      "text/plain": [
       "{'type': 'FeatureCollection',\n",
       " 'version': 'draft',\n",
       " 'features': [{'type': 'Feature',\n",
       "   'geometry': {'type': 'Point', 'coordinates': [1.630324, 47.778272]},\n",
       "   'properties': {'label': '19 bis Rue du Martroi 45190 Beaugency',\n",
       "    'score': 0.999999994842585,\n",
       "    'housenumber': '19 bis',\n",
       "    'id': '45028_0553_00019_bis',\n",
       "    'type': 'housenumber',\n",
       "    'x': 597427.92,\n",
       "    'y': 6742876.09,\n",
       "    'importance': 0.4251141289340241,\n",
       "    'name': '19 bis Rue du Martroi',\n",
       "    'postcode': '45190',\n",
       "    'citycode': '45028',\n",
       "    'city': 'Beaugency',\n",
       "    'context': '45, Loiret, Centre-Val de Loire',\n",
       "    'street': 'Rue du Martroi',\n",
       "    'distance': 3}}],\n",
       " 'attribution': 'BAN',\n",
       " 'licence': 'ETALAB-2.0',\n",
       " 'limit': 1}"
      ]
     },
     "execution_count": 1,
     "metadata": {},
     "output_type": "execute_result"
    }
   ],
   "source": [
    "import requests\n",
    "r = requests.get(\"https://api-adresse.data.gouv.fr/reverse/?lat=47.7783&lon=1.6303\")\n",
    "donnees = r.json()\n",
    "donnees"
   ]
  },
  {
   "cell_type": "markdown",
   "metadata": {},
   "source": [
    "**Information n°2**  \n",
    "Une latitude exprimée en degré, minute, seconde (DMS) se convertit facilement en **degrés décimaux** (DD) :\n",
    "47 deg 43 min 18 sec = 47 + 43/60 + 18/3600 = 47.7216666 degrés décimaux.  \n",
    "\n",
    "\n",
    "C'est la même chose pour la longitude.\n"
   ]
  },
  {
   "cell_type": "markdown",
   "metadata": {},
   "source": [
    "**Information n°3**  \n",
    "Pour gérer d'éventuelles erreurs qui pourraient survenir lors de l'exécution, on peut utiliser une structure <code>try: ... except: ... </code>\n",
    "\n",
    "Voici un exemple :"
   ]
  },
  {
   "cell_type": "code",
   "execution_count": 2,
   "metadata": {},
   "outputs": [],
   "source": [
    "def diviser(a, b):\n",
    "    try : \n",
    "        return a/b\n",
    "    except :\n",
    "        print(\"vous  avez donné b=0 comme paramètre ou vous avez saisi n'importe quoi ...\")"
   ]
  },
  {
   "cell_type": "code",
   "execution_count": 3,
   "metadata": {},
   "outputs": [
    {
     "data": {
      "text/plain": [
       "5.428571428571429"
      ]
     },
     "execution_count": 3,
     "metadata": {},
     "output_type": "execute_result"
    }
   ],
   "source": [
    "diviser(38, 7)"
   ]
  },
  {
   "cell_type": "code",
   "execution_count": 4,
   "metadata": {},
   "outputs": [
    {
     "data": {
      "text/plain": [
       "0.038"
      ]
     },
     "execution_count": 4,
     "metadata": {},
     "output_type": "execute_result"
    }
   ],
   "source": [
    "diviser(38, 1000)"
   ]
  },
  {
   "cell_type": "code",
   "execution_count": 5,
   "metadata": {},
   "outputs": [
    {
     "name": "stdout",
     "output_type": "stream",
     "text": [
      "vous  avez donné b=0 comme paramètre ou vous avez saisi n'importe quoi ...\n"
     ]
    }
   ],
   "source": [
    "diviser(38, 0)"
   ]
  },
  {
   "cell_type": "code",
   "execution_count": 6,
   "metadata": {},
   "outputs": [
    {
     "name": "stdout",
     "output_type": "stream",
     "text": [
      "vous  avez donné b=0 comme paramètre ou vous avez saisi n'importe quoi ...\n"
     ]
    }
   ],
   "source": [
    "diviser(\"quinze biscuits\", \"3 enfants\")"
   ]
  },
  {
   "cell_type": "markdown",
   "metadata": {},
   "source": [
    "<div class = \"alert alert-info\">   \n",
    "\n",
    "\n",
    "Ecrire une fonction qui :  \n",
    "- prend en paramètre le nom d'un fichier image\n",
    "- renvoie sous forme de chaîne de caractères l'adresse correspondant aux latitude et longitude enregistrées dans les données exif si elles y figurent\n",
    "- renvoie une chaîne de caractère \"Echec de l'obtention de l'adresse\" sinon\n"
   ]
  },
  {
   "cell_type": "code",
   "execution_count": null,
   "metadata": {},
   "outputs": [],
   "source": [
    "import json\n",
    "from PIL import Image, ExifTags\n",
    "import requests\n",
    "\n",
    "def renvoyer_donnees_exif(chemin_fichier, afficher = True):\n",
    "    '''\n",
    "    Renvoie les données exif de l'image dont le chemin d'accès est spécifié par\n",
    "    chemin_fichier. Le booléen afficher indique si l'on souhaite afficher l'image.\n",
    "    '''\n",
    "    img = PIL.Image.open(chemin_fichier)\n",
    "    donnees_exif = { PIL.ExifTags.TAGS[k]:v for k, v in img._getexif().items() if k in PIL.ExifTags.TAGS}\n",
    "    display(img)\n",
    "    img.close()\n",
    "    return donnees_exif\n",
    "\n",
    "def renvoyer_lat_et_lon(chemin_fichier):\n",
    "    donnees_exif = renvoyer_donnees_exif(chemin_fichier)\n",
    "    tuple_lat = donnees_exif['GPSInfo'][2] \n",
    "    latitude = (tuple_lat[0][0], tuple_lat[1][0], tuple_lat[2][0])\n",
    "    tuple_lon = donnees_exif['GPSInfo'][4]\n",
    "    longitude = (tuple_lon[0][0], tuple_lon[1][0], tuple_lon[2][0])\n",
    "    return latitude, longitude\n",
    "\n",
    "def obtenir_lat_et_lon_en_decimal(chemin_fichier):\n",
    "    #try :\n",
    "    lat_lon = renvoyer_lat_et_lon(chemin_fichier)\n",
    "    lat_deg_dec = lat_lon[0][0] + lat_lon[0][1]/60 + lat_lon[0][2]/3600\n",
    "    lon_deg_dec = lat_lon[1][0] + lat_lon[1][1]/60 + lat_lon[1][2]/3600  \n",
    "    return lat_deg_dec, lon_deg_dec\n",
    "    #except:\n",
    "       # print('Erreur dans la lecture des données EXIF')\n",
    "\n",
    "def adresse(chemin_fichier):\n",
    "    #try :\n",
    "    lat, lon = obtenir_lat_et_lon_en_decimal(chemin_fichier)\n",
    "    r = requests.get(\"https://api-adresse.data.gouv.fr/reverse/?\" +\n",
    "                     \"lat=\" + str(lat) + \"&lon=\" + str(lon))\n",
    "    donnees_requete = r.json() \n",
    "    adresse = donnees_requete['features'][0]['properties']['label']\n",
    "    return adresse\n",
    "    #except :\n",
    "       # print('Erreur dans le lecture des données Exif ou dans la requête web.')\n",
    "    "
   ]
  },
  {
   "cell_type": "code",
   "execution_count": null,
   "metadata": {},
   "outputs": [],
   "source": [
    "adresse('.\\dossier_eleve\\images_exif\\souris_gps.jpg')"
   ]
  }
 ],
 "metadata": {
  "kernelspec": {
   "display_name": "Python 3",
   "language": "python",
   "name": "python3"
  },
  "language_info": {
   "codemirror_mode": {
    "name": "ipython",
    "version": 3
   },
   "file_extension": ".py",
   "mimetype": "text/x-python",
   "name": "python",
   "nbconvert_exporter": "python",
   "pygments_lexer": "ipython3",
   "version": "3.8.3"
  }
 },
 "nbformat": 4,
 "nbformat_minor": 2
}
