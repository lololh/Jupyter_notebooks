{
 "cells": [
  {
   "cell_type": "markdown",
   "metadata": {},
   "source": [
    "## Exercice 1 : dictionnaire et API"
   ]
  },
  {
   "cell_type": "markdown",
   "metadata": {},
   "source": [
    "On dispose d'une API (Application Programming Interface) mise à disposition par les services de l'Etat et permettant de récupérer un certain nombre d'informations à partir d'une adresse postale (formatée avec des caractères <code>+</code> entre les différents termes de la recherche).  \n",
    "\n",
    "\n",
    "Une requête à cette API renvoie des données au format JSON (Java Script Object Notation). Ce format de données permet d'utiliser conjointement des dictionnaires et des listes : on peut ainsi avoir la valeur d'un dictionnaire qui est une liste contenant elle même un dictionnaire contenant lui même etc.\n",
    "\n",
    "\n",
    "Voici un exemple (la valeur associée à la clef <code>'coordinates'</code> est le couple de coordonnées <code>[longitude, latitude]</code> en degrés décimaux) :"
   ]
  },
  {
   "cell_type": "code",
   "execution_count": null,
   "metadata": {},
   "outputs": [],
   "source": [
    "import requests\n",
    "\n",
    "adresse_formatee = '110+rue+de+Grenelle+75007+Paris'\n",
    "r = requests.get(\"https://api-adresse.data.gouv.fr/search/?q=\" + adresse_formatee)\n",
    "donnees = r.json()\n",
    "donnees\n"
   ]
  },
  {
   "cell_type": "markdown",
   "metadata": {},
   "source": [
    "<div class =\"alert alert-info\">\n",
    "\n",
    "Ecrire une fonction :\n",
    "- qui prend en paramètres une chaine de caractères correspondant à une adresse postale formatée avec des <code>+</code>,\n",
    "- qui renvoie un 2-uplet des coordonnées GPS de l'adresse correspondante.  \n",
    "\n",
    "\n",
    "On ne se préoccupera pas des éventuelles erreurs qui pourraient être liées à une adresse non répertoriée.\n"
   ]
  },
  {
   "cell_type": "markdown",
   "metadata": {},
   "source": [
    "## Exercice 2 : EXIF"
   ]
  },
  {
   "cell_type": "markdown",
   "metadata": {},
   "source": [
    "La fonction ci-dessous permet de renvoyer les donnees exif d'une image.  "
   ]
  },
  {
   "cell_type": "code",
   "execution_count": null,
   "metadata": {},
   "outputs": [],
   "source": [
    "import PIL.Image\n",
    "from IPython.display import display\n",
    "import PIL.ExifTags\n",
    "\n",
    "def renvoyer_donnees_exif(chemin_fichier, afficher = True):\n",
    "    '''\n",
    "    Renvoie les données exif de l'image dont le chemin d'accès est spécifié par\n",
    "    chemin_fichier. Le booléen afficher indique si l'on souhaite afficher l'image.\n",
    "    '''\n",
    "    img = PIL.Image.open(chemin_fichier)\n",
    "    donnees_exif = { PIL.ExifTags.TAGS[k]:v for k, v in img._getexif().items() if k in PIL.ExifTags.TAGS}\n",
    "    display(img)\n",
    "    img.close()\n",
    "    return donnees_exif\n",
    "\n",
    "donnees_exif = renvoyer_donnees_exif('./images_exif/souris_gps.jpg')\n",
    "donnees_exif"
   ]
  },
  {
   "cell_type": "markdown",
   "metadata": {},
   "source": [
    "Sur cet exemple on peut lire que les coordonnées GPS sont :  \n",
    "- 47 degrés 45 minutes 27 secondes de latitude Nord,\n",
    "-  1 degré  40 minutes 29 secondes de longitude Est."
   ]
  },
  {
   "cell_type": "markdown",
   "metadata": {},
   "source": [
    "<div class = \"alert alert-info\">  \n",
    "\n",
    "\n",
    "Ecrire une fonction <code>renvoyer_lat_et_lon</code> qui :\n",
    "- prend en paramètre les données exif renvoyées par la fonction <code>renvoyer_donnees_exif</code>\n",
    "- renvoie la latitude et la longitude exprimées en degrés, minutes, secondes,\n",
    "\n",
    "\n",
    "Les structures de données à utiliser pour renvoyer latitude et longitude sont laissées à votre réflexion (tableau, p-uplet, p-uplet de p-uplet, dictionnaire, dictionnaire de p-uplet, p-uplet de dictionnaires, dictionnaire de dictionnaires ...)"
   ]
  },
  {
   "cell_type": "markdown",
   "metadata": {},
   "source": [
    "## Exercice 3 : dictionnaire et JSON en Python\n",
    "\n",
    "Le fichier <code>./joueurs.json</code> contient des données au format .JSON.  \n",
    "Ces données correspondent à des données de 5 joueurs nommés par leur pseudonyme. "
   ]
  },
  {
   "cell_type": "markdown",
   "metadata": {},
   "source": [
    "<div class = \"alert alert-info\">\n",
    "\n",
    "En utilisant la partie \"Applications\" du cours, écrire une fonction qui :\n",
    "- prend en paramètre le pseudonyme d'un des joueurs\n",
    "- ajoute 1 à la valeur associée à la clé <code>'appels'</code> de ce joueur :\n",
    "    - en ouvrant le fichier <code>./joueurs.json</code>\n",
    "    - en modifiant la valeur associée à la clé <code>'appels'</code>\n",
    "    - en sauvegardant la fichier <code>./joueurs.json</code> actualisé.\n",
    "- renvoie le dictionnaire correspondant au contenu du fichier JSON modifié"
   ]
  },
  {
   "cell_type": "markdown",
   "metadata": {},
   "source": [
    "## Exercice 4 -  adresse de prise de vue d'une photo"
   ]
  },
  {
   "cell_type": "markdown",
   "metadata": {},
   "source": [
    "**Information n°1**  \n",
    "On peut récupérer une adresse postale française à partir de ses latitude et longitude expriméees en **degrés décimaux** :"
   ]
  },
  {
   "cell_type": "code",
   "execution_count": null,
   "metadata": {},
   "outputs": [],
   "source": [
    "import requests\n",
    "r = requests.get(\"https://api-adresse.data.gouv.fr/reverse/?lat=47.7783&lon=1.6303\")\n",
    "donnees = r.json()\n",
    "donnees"
   ]
  },
  {
   "cell_type": "markdown",
   "metadata": {},
   "source": [
    "**Information n°2**  \n",
    "Une latitude exprimée en degré, minute, seconde (DMS) se convertit facilement en **degrés décimaux** (DD) :\n",
    "47 deg 43 min 18 sec = 47 + 43/60 + 18/3600 = 47.7216666 degrés décimaux.  \n",
    "\n",
    "\n",
    "C'est la même chose pour la longitude.\n"
   ]
  },
  {
   "cell_type": "markdown",
   "metadata": {},
   "source": [
    "**Information n°3**  \n",
    "Pour gérer d'éventuelles erreurs qui pourraient survenir lors de l'exécution, on peut utiliser une structure <code>try: ... except: ... </code>\n",
    "\n",
    "Voici un exemple :"
   ]
  },
  {
   "cell_type": "code",
   "execution_count": null,
   "metadata": {},
   "outputs": [],
   "source": [
    "def diviser(a, b):\n",
    "    try : \n",
    "        return a/b\n",
    "    except :\n",
    "        print(\"vous  avez donné b=0 comme paramètre ou vous avez saisi n'importe quoi ...\")"
   ]
  },
  {
   "cell_type": "code",
   "execution_count": null,
   "metadata": {},
   "outputs": [],
   "source": [
    "diviser(38, 7)"
   ]
  },
  {
   "cell_type": "code",
   "execution_count": null,
   "metadata": {},
   "outputs": [],
   "source": [
    "diviser(38, 1000)"
   ]
  },
  {
   "cell_type": "code",
   "execution_count": null,
   "metadata": {},
   "outputs": [],
   "source": [
    "diviser(38, 0)"
   ]
  },
  {
   "cell_type": "code",
   "execution_count": null,
   "metadata": {},
   "outputs": [],
   "source": [
    "diviser(\"quinze biscuits\", \"3 enfants\")"
   ]
  },
  {
   "cell_type": "markdown",
   "metadata": {},
   "source": [
    "<div class = \"alert alert-info\">   \n",
    "\n",
    "\n",
    "Ecrire une fonction qui :  \n",
    "- prend en paramètre le nom d'un fichier image\n",
    "- renvoie sous forme de chaîne de caractères l'adresse correspondant aux latitude et longitude enregistrées dans les données exif si elles y figurent\n",
    "- renvoie une chaîne de caractère \"Echec de l'obtention de l'adresse\" sinon\n"
   ]
  }
 ],
 "metadata": {
  "kernelspec": {
   "display_name": "Python 3",
   "language": "python",
   "name": "python3"
  },
  "language_info": {
   "codemirror_mode": {
    "name": "ipython",
    "version": 3
   },
   "file_extension": ".py",
   "mimetype": "text/x-python",
   "name": "python",
   "nbconvert_exporter": "python",
   "pygments_lexer": "ipython3",
   "version": "3.8.2"
  }
 },
 "nbformat": 4,
 "nbformat_minor": 2
}
