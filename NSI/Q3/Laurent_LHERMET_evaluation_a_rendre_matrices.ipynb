{
 "cells": [
  {
   "cell_type": "markdown",
   "metadata": {},
   "source": [
    "On traitera au choix **un seul** des deux exercices ci-dessous, le second étant moins facile (utilisation de la récursivité, pour ceux qui savent faire)."
   ]
  },
  {
   "cell_type": "code",
   "execution_count": 4,
   "metadata": {},
   "outputs": [],
   "source": [
    "%load_ext tutormagic\n",
    "#integration de tutor magic dans le notebook"
   ]
  },
  {
   "cell_type": "markdown",
   "metadata": {},
   "source": [
    "## Cueillette de fraises ($\\star$)\n",
    "\n",
    "On considère le problème de la cueillette de fraises mentionnée dans les travaux à faire pendant les vacances d'été (voir le module correspondant sur m@gistere : Evaluations à faire pendant les vacances > algorithmes débranchés, énoncé & correction).\n",
    "\n",
    "#### Matrice représentant le champ de fraises\n",
    "\n",
    "Le champ de fraises de nb_lig lignes et nb_col colonnes sera représenté par une matrice `champ` :\n",
    "- `champ[i][j] = 0` indique qu'il n'y a aucune fraise à la case de la ligne `i`, colonne `j`,\n",
    "- `champ[i][j] = 1` indique qu'il y a une fraise à la case de la ligne `i`, colonne `j`.\n",
    "\n",
    "*Point méthode :* pour générer un nombre aléatoire choisi au hasard parmi 0 ou 1 avec une probabilité de 0.37 (c-à-d une probabilité de 37 %) qu'il soit égal à 1 il suffit d'utiliser l'expression suivante (un `if ... else` codé sur une seule ligne, ce qui est possible en Python ...):"
   ]
  },
  {
   "cell_type": "code",
   "execution_count": 14,
   "metadata": {},
   "outputs": [],
   "source": [
    "from random import random"
   ]
  },
  {
   "cell_type": "code",
   "execution_count": 15,
   "metadata": {},
   "outputs": [
    {
     "data": {
      "text/plain": [
       "0"
      ]
     },
     "execution_count": 15,
     "metadata": {},
     "output_type": "execute_result"
    }
   ],
   "source": [
    "1 if random() < 0.37 else 0"
   ]
  },
  {
   "cell_type": "markdown",
   "metadata": {},
   "source": [
    "#### Matrice représentant les meilleures récoltes possibles\n",
    "\n",
    "On stockera dans une matrice `recoltes_max` - et plus précisément dans `recoltes_max[i][j]` - le nombre maximal de fraises qu'il est possible de cueillir pour le robot lorsque l'arrivée du trajet est à la case de la ligne `i` et de la colonne `j`.\n",
    "\n",
    "Pour remplir la première ligne de `recoltes_max`, le nombre maximal de fraises est très simple puisque le trajet est imposé. C'est la même chose pour la première colonne. Voici un exemple :\n",
    "\n",
    "```\n",
    "champ = [[1, 0, 0, 1, 0, 1, 0, 1, 1],\n",
    "         [0, 1, 0, 0, 1, 0, 0, 1, 0],\n",
    "         [1, 0, 1, 1, 1, 0, 0, 1, 0],\n",
    "         [0, 0, 1, 0, 0, 0, 0, 0, 1],\n",
    "         [0, 0, 1, 1, 1, 1, 1, 0, 0],\n",
    "         [1, 0, 1, 0, 1, 0, 1, 0, 0]]\n",
    "         \n",
    "recoltes_max = [[1, 1, 1, 2, 2, 3, 3, 4, 5],\n",
    "                [1, ...                   ],\n",
    "                [2, ...                   ],\n",
    "                [2, ...                   ],\n",
    "                [2, ...                   ],\n",
    "                [3, ...                   ]]\n",
    "\n",
    "```\n",
    "\n",
    "Une fois qu'on connait les récoltes maximales pour la première ligne et la première colonne, on peut alors compléter le reste de la matrice ligne par ligne (ou colonne par colonne) à partir du coin supérieur gauche : pour compléter `recoltes_max[lig][col]` on choisit la plus grande des deux valeurs `recoltes_max[lig][col-1]` et `recoltes_max[lig-1][col]` et on rajoute la valeur de `champ[lig][col]` (c'est à dire 1 s'il y a une fraise et 0 sinon). \n",
    "\n",
    "Ainsi, pour calculer un élément de `recoltes_max` on se sert des élements du dessus et de gauche ainsi que de l'élément correspondant de `champ`."
   ]
  },
  {
   "cell_type": "markdown",
   "metadata": {},
   "source": [
    "*Point méthode :* pour obtenir le maximum de deux nombres on utilisera la fonction python `max` :"
   ]
  },
  {
   "cell_type": "code",
   "execution_count": 16,
   "metadata": {},
   "outputs": [
    {
     "data": {
      "text/plain": [
       "89"
      ]
     },
     "execution_count": 16,
     "metadata": {},
     "output_type": "execute_result"
    }
   ],
   "source": [
    "max(7, 14, 89, 43)"
   ]
  },
  {
   "cell_type": "markdown",
   "metadata": {},
   "source": [
    "**Question 1 :**\n",
    "\n",
    "Ecrire une fonction `creer_champ(nb_lig, nb_col, p)` qui renvoie une matrice de `nb_lig` lignes et `nb_col` colonnes dont chaque élément est choisi aléatoirement parmi 0 ou 1 avec une probabilité `p` d'être égal à 1.\n",
    "On pourra consulter avec profit le II du cours (initialisation de matrices) et utiliser les listes définies par compréhension.\n",
    "\n",
    "Voici deux exemples d'utilisation de cette fonction :\n",
    "```\n",
    ">>> champ = creer_champ(5, 9, 0.8)\n",
    ">>> champ\n",
    "[[0, 1, 1, 0, 0, 1, 1, 1, 1],\n",
    " [1, 1, 1, 1, 1, 0, 1, 0, 1],\n",
    " [0, 1, 1, 1, 0, 1, 1, 1, 1],\n",
    " [1, 0, 1, 1, 1, 1, 1, 1, 1],\n",
    " [0, 1, 0, 1, 1, 1, 1, 1, 0]]\n",
    " \n",
    ">>> champ = creer_champ(13, 19, 0.2)\n",
    ">>> champ\n",
    "[[0, 1, 0, 1, 0, 0, 0, 0, 1, 0, 0, 1, 0, 0, 0, 1, 1, 1, 0],\n",
    " [0, 1, 0, 0, 1, 0, 0, 0, 0, 0, 0, 0, 0, 0, 0, 0, 0, 1, 0],\n",
    " [0, 0, 1, 0, 0, 0, 0, 1, 0, 1, 0, 0, 0, 0, 0, 0, 1, 1, 1],\n",
    " [0, 1, 1, 0, 1, 1, 1, 1, 0, 1, 1, 1, 1, 0, 0, 0, 0, 0, 0],\n",
    " [0, 0, 0, 0, 0, 0, 0, 1, 0, 0, 0, 1, 0, 1, 0, 0, 1, 0, 1],\n",
    " [0, 1, 0, 0, 0, 1, 0, 0, 0, 1, 1, 0, 0, 0, 1, 0, 0, 0, 0],\n",
    " [0, 0, 1, 0, 0, 0, 0, 0, 0, 1, 0, 0, 0, 0, 1, 0, 0, 1, 0],\n",
    " [0, 0, 0, 0, 0, 0, 0, 0, 0, 0, 0, 0, 0, 0, 0, 0, 0, 1, 1],\n",
    " [0, 0, 0, 0, 1, 0, 0, 0, 0, 1, 1, 0, 0, 0, 0, 1, 0, 0, 1],\n",
    " [0, 0, 1, 0, 0, 0, 0, 0, 1, 0, 0, 0, 0, 1, 1, 0, 0, 0, 0],\n",
    " [0, 0, 0, 0, 1, 0, 0, 0, 0, 0, 1, 0, 1, 0, 0, 0, 0, 0, 1],\n",
    " [1, 0, 0, 0, 0, 0, 1, 0, 1, 1, 0, 0, 1, 0, 0, 0, 1, 0, 0],\n",
    " [1, 0, 0, 0, 0, 0, 0, 0, 1, 0, 0, 1, 0, 0, 0, 0, 0, 0, 1]]\n",
    "```\n"
   ]
  },
  {
   "cell_type": "code",
   "execution_count": 22,
   "metadata": {},
   "outputs": [],
   "source": [
    "# %%tutor --lang python3 --tab               #intégration de python tutor au notebook jupyter pour debuggage\n",
    "\n",
    "from random import random                    #remis pour python tutor\n",
    "\n",
    "def creer_champ(nb_lig,nb_col,p):\n",
    "    matrice_champs=[[(1 if random() < p else 0) for col in range(nb_col)] for lig in range(nb_lig)]\n",
    "    \n",
    "champ = creer_champ(5,9,0.8)\n",
    "champ"
   ]
  },
  {
   "cell_type": "markdown",
   "metadata": {},
   "source": [
    "**Question 2 :**  \n",
    "    \n",
    "Ecrire une fonction `calculer_recoltes_max` qui prend en argument une matrice (non vide) représentant un champ de fraises et renvoie la matrice des recoltes maximales possibles associée."
   ]
  },
  {
   "cell_type": "code",
   "execution_count": 68,
   "metadata": {},
   "outputs": [],
   "source": [
    "# %%tutor --lang python3 --tab               #intégration de python tutor au notebook jupyter pour debuggage\n",
    "\n",
    "def calculer_recoltes_max(matr):\n",
    "    nb_col=len(matr[0])\n",
    "    nb_lig=len(matr)\n",
    "    recl = [[0 for _ in range(nb_col)] for _ in range(nb_lig)]\n",
    "    #remplissage de la première ligne\n",
    "    cumul = 0\n",
    "    for col in range(nb_col):           #pour l'ensemble des colonnes de la première ligne\n",
    "        if matr[0][col]== 1:            #si présence de fraise (1) alors \n",
    "            cumul += matr[0][col]       #incrémentation compteur cumul          \n",
    "            recl[0][col] = cumul        #placement de la valeur du compteur cumul dans la matrice\n",
    "        else:\n",
    "            recl[0][col] = cumul        #si absence fraise, placement de la valeur du compteur cumul non modifié\n",
    "    cumul = 0                           # réinitialisation du cumul une fois la première ligne complétée    \n",
    "    #remplissage de la première colonne\n",
    "    for lig in range(nb_lig):           #pour l'ensemble des colonnes de la première ligne\n",
    "        if matr[lig][0]== 1:            #si présence de fraise (1) alors \n",
    "            cumul += matr[lig][0]       #incrémentation compteur cumul\n",
    "            recl[lig][0] = cumul         #placement de la valeur du compteur cumul dans la matrice          \n",
    "        else:          \n",
    "            recl[lig][0] = cumul        #si absence fraise, placement de la valeur du compteur cumul non modifié\n",
    "    cumul = 0\n",
    "    #remplissage du reste du tableau\n",
    "    for lig in range (1,nb_lig):         # Pour la ligne numéro 1 jusqu'à la dernière ligne    \n",
    "        for col in range (1,nb_col):     # Pour la colonne numéro 1 jusqu'à la dernière colonne\n",
    "            maxi = max(recl[lig][col-1],recl[lig-1][col]) #Détermination de la plus grande valeur au dessus ou à gauche\n",
    "            recl[lig][col] = maxi + matr[lig][col]\n",
    "    return recl\n",
    "\n",
    "champ1 = [[0, 0, 0, 0, 0, 0, 0, 0, 1, 0, 0, 0, 0, 0, 0, 0, 0, 0, 0, 0],\n",
    " [0, 0, 0, 0, 0, 0, 0, 0, 0, 0, 0, 1, 0, 0, 0, 0, 0, 0, 1, 0],\n",
    " [0, 0, 0, 0, 0, 0, 0, 0, 1, 0, 0, 0, 0, 0, 0, 0, 0, 0, 1, 0],\n",
    " [0, 0, 0, 0, 0, 0, 0, 0, 0, 0, 0, 0, 0, 0, 0, 0, 0, 0, 0, 0],\n",
    " [0, 0, 0, 0, 0, 0, 0, 1, 0, 0, 0, 0, 0, 0, 0, 0, 0, 1, 0, 0],\n",
    " [0, 0, 1, 0, 0, 0, 0, 0, 0, 0, 0, 0, 0, 0, 0, 0, 0, 0, 0, 1],\n",
    " [1, 0, 0, 0, 0, 0, 0, 0, 0, 0, 0, 0, 0, 0, 0, 0, 1, 0, 0, 0],\n",
    " [0, 0, 1, 1, 0, 0, 0, 0, 0, 0, 0, 0, 0, 0, 0, 0, 0, 0, 0, 0],\n",
    " [0, 0, 0, 0, 0, 0, 0, 0, 0, 0, 0, 1, 0, 0, 0, 0, 0, 0, 0, 0],\n",
    " [0, 0, 0, 0, 0, 0, 0, 0, 0, 0, 0, 0, 0, 0, 0, 0, 0, 0, 0, 0],\n",
    " [0, 0, 0, 0, 0, 0, 0, 0, 0, 0, 0, 0, 0, 0, 0, 0, 0, 0, 0, 0],\n",
    " [0, 0, 0, 0, 0, 0, 0, 0, 0, 0, 0, 0, 0, 0, 0, 0, 1, 0, 0, 0],\n",
    " [0, 0, 0, 1, 0, 0, 0, 0, 0, 0, 0, 0, 1, 0, 0, 0, 0, 0, 0, 0],\n",
    " [0, 1, 0, 0, 0, 1, 0, 0, 0, 0, 0, 0, 0, 0, 0, 0, 0, 0, 0, 0],\n",
    " [0, 0, 0, 0, 0, 0, 0, 0, 0, 0, 0, 0, 1, 0, 0, 0, 0, 0, 0, 0]]\n",
    "\n",
    "rec1 = [[0, 0, 0, 0, 0, 0, 0, 0, 1, 1, 1, 1, 1, 1, 1, 1, 1, 1, 1, 1],\n",
    " [0, 0, 0, 0, 0, 0, 0, 0, 1, 1, 1, 2, 2, 2, 2, 2, 2, 2, 3, 3],\n",
    " [0, 0, 0, 0, 0, 0, 0, 0, 2, 2, 2, 2, 2, 2, 2, 2, 2, 2, 4, 4],\n",
    " [0, 0, 0, 0, 0, 0, 0, 0, 2, 2, 2, 2, 2, 2, 2, 2, 2, 2, 4, 4],\n",
    " [0, 0, 0, 0, 0, 0, 0, 1, 2, 2, 2, 2, 2, 2, 2, 2, 2, 3, 4, 4],\n",
    " [0, 0, 1, 1, 1, 1, 1, 1, 2, 2, 2, 2, 2, 2, 2, 2, 2, 3, 4, 5],\n",
    " [1, 1, 1, 1, 1, 1, 1, 1, 2, 2, 2, 2, 2, 2, 2, 2, 3, 3, 4, 5],\n",
    " [1, 1, 2, 3, 3, 3, 3, 3, 3, 3, 3, 3, 3, 3, 3, 3, 3, 3, 4, 5],\n",
    " [1, 1, 2, 3, 3, 3, 3, 3, 3, 3, 3, 4, 4, 4, 4, 4, 4, 4, 4, 5],\n",
    " [1, 1, 2, 3, 3, 3, 3, 3, 3, 3, 3, 4, 4, 4, 4, 4, 4, 4, 4, 5],\n",
    " [1, 1, 2, 3, 3, 3, 3, 3, 3, 3, 3, 4, 4, 4, 4, 4, 4, 4, 4, 5],\n",
    " [1, 1, 2, 3, 3, 3, 3, 3, 3, 3, 3, 4, 4, 4, 4, 4, 5, 5, 5, 5],\n",
    " [1, 1, 2, 4, 4, 4, 4, 4, 4, 4, 4, 4, 5, 5, 5, 5, 5, 5, 5, 5],\n",
    " [1, 2, 2, 4, 4, 5, 5, 5, 5, 5, 5, 5, 5, 5, 5, 5, 5, 5, 5, 5],\n",
    " [1, 2, 2, 4, 4, 5, 5, 5, 5, 5, 5, 5, 6, 6, 6, 6, 6, 6, 6, 6]]\n",
    "\n",
    "champ2 = [[1, 1, 1, 0, 1, 1, 0, 1, 1, 0, 1, 1],\n",
    " [1, 1, 0, 1, 1, 0, 1, 1, 1, 1, 1, 1],\n",
    " [0, 1, 1, 0, 1, 0, 1, 0, 0, 1, 1, 1],\n",
    " [0, 1, 1, 1, 1, 1, 1, 1, 0, 1, 1, 0],\n",
    " [1, 1, 1, 1, 1, 1, 1, 1, 1, 0, 1, 1],\n",
    " [1, 0, 1, 1, 1, 0, 0, 0, 1, 1, 0, 1],\n",
    " [0, 1, 1, 1, 1, 1, 1, 1, 1, 1, 1, 1],\n",
    " [1, 1, 0, 0, 0, 1, 1, 1, 1, 0, 0, 1],\n",
    " [1, 0, 0, 1, 1, 0, 1, 1, 1, 0, 1, 1]]\n",
    "\n",
    "rec2 = [[1, 2, 3, 3, 4, 5, 5, 6, 7, 7, 8, 9],\n",
    " [2, 3, 3, 4, 5, 5, 6, 7, 8, 9, 10, 11],\n",
    " [2, 4, 5, 5, 6, 6, 7, 7, 8, 10, 11, 12],\n",
    " [2, 5, 6, 7, 8, 9, 10, 11, 11, 12, 13, 13],\n",
    " [3, 6, 7, 8, 9, 10, 11, 12, 13, 13, 14, 15],\n",
    " [4, 6, 8, 9, 10, 10, 11, 12, 14, 15, 15, 16],\n",
    " [4, 7, 9, 10, 11, 12, 13, 14, 15, 16, 17, 18],\n",
    " [5, 8, 9, 10, 11, 13, 14, 15, 16, 16, 17, 19],\n",
    " [6, 8, 9, 11, 12, 13, 15, 16, 17, 17, 18, 20]]\n",
    "\n",
    "assert(calculer_recoltes_max(champ1) == rec1)\n",
    "#assert(calculer_recoltes_max(champ2) == rec2)"
   ]
  },
  {
   "cell_type": "code",
   "execution_count": 69,
   "metadata": {},
   "outputs": [],
   "source": [
    "#intégration de python tutor au notebook jupyter pour debuggage\n",
    "def calculer_recoltes_max(matr):\n",
    "    \n",
    "    nb_col=len(matr[0])\n",
    "    nb_lig=len(matr)\n",
    "    recl = [[0 for _ in range(nb_col)] for _ in range(nb_lig)]\n",
    "    #remplissage de la première ligne\n",
    "    cumul = 0\n",
    "    for col in range(nb_col):           #pour l'ensemble des colonnes de la première ligne\n",
    "        if matr[0][col]== 1:            #si présence de fraise (1) alors \n",
    "            cumul += matr[0][col]       #incrémentation compteur cumul          \n",
    "            recl[0][col] = cumul        #placement de la valeur du compteur cumul dans la matrice\n",
    "        else:\n",
    "            recl[0][col] = cumul        #si absence fraise, placement de la valeur du compteur cumul non modifié\n",
    "    cumul = 0                           # réinitialisation du cumul une fois la première ligne complétée    \n",
    "    #remplissage de la première colonne\n",
    "    for lig in range(nb_lig):           #pour l'ensemble des colonnes de la première ligne\n",
    "        if matr[lig][0]== 1:            #si présence de fraise (1) alors \n",
    "            cumul += matr[lig][0]       #incrémentation compteur cumul\n",
    "            recl[lig][0] = cumul         #placement de la valeur du compteur cumul dans la matrice          \n",
    "        else:          \n",
    "            recl[lig][0] = cumul        #si absence fraise, placement de la valeur du compteur cumul non modifié\n",
    "    cumul = 0\n",
    "    #remplissage du reste du tableau\n",
    "    for lig in range (1,nb_lig):         # Pour la ligne numéro 1 jusqu'à la dernière ligne    \n",
    "        for col in range (1,nb_col):     # Pour la colonne numéro 1 jusqu'à la dernière colonne\n",
    "            maxi = max(recl[lig][col-1],recl[lig-1][col]) #Détermination de la plus grande valeur au dessus ou à gauche\n",
    "            recl[lig][col] = maxi + matr[lig][col]\n",
    "    return recl\n"
   ]
  },
  {
   "cell_type": "markdown",
   "metadata": {},
   "source": [
    "**Question 3 :**\n",
    "    \n",
    "Tester la fonction `calculer_recoltes_max` grâce aux assertions suivantes :"
   ]
  },
  {
   "cell_type": "code",
   "execution_count": 70,
   "metadata": {},
   "outputs": [],
   "source": [
    "champ1 = [[0, 0, 0, 0, 0, 0, 0, 0, 1, 0, 0, 0, 0, 0, 0, 0, 0, 0, 0, 0],\n",
    " [0, 0, 0, 0, 0, 0, 0, 0, 0, 0, 0, 1, 0, 0, 0, 0, 0, 0, 1, 0],\n",
    " [0, 0, 0, 0, 0, 0, 0, 0, 1, 0, 0, 0, 0, 0, 0, 0, 0, 0, 1, 0],\n",
    " [0, 0, 0, 0, 0, 0, 0, 0, 0, 0, 0, 0, 0, 0, 0, 0, 0, 0, 0, 0],\n",
    " [0, 0, 0, 0, 0, 0, 0, 1, 0, 0, 0, 0, 0, 0, 0, 0, 0, 1, 0, 0],\n",
    " [0, 0, 1, 0, 0, 0, 0, 0, 0, 0, 0, 0, 0, 0, 0, 0, 0, 0, 0, 1],\n",
    " [1, 0, 0, 0, 0, 0, 0, 0, 0, 0, 0, 0, 0, 0, 0, 0, 1, 0, 0, 0],\n",
    " [0, 0, 1, 1, 0, 0, 0, 0, 0, 0, 0, 0, 0, 0, 0, 0, 0, 0, 0, 0],\n",
    " [0, 0, 0, 0, 0, 0, 0, 0, 0, 0, 0, 1, 0, 0, 0, 0, 0, 0, 0, 0],\n",
    " [0, 0, 0, 0, 0, 0, 0, 0, 0, 0, 0, 0, 0, 0, 0, 0, 0, 0, 0, 0],\n",
    " [0, 0, 0, 0, 0, 0, 0, 0, 0, 0, 0, 0, 0, 0, 0, 0, 0, 0, 0, 0],\n",
    " [0, 0, 0, 0, 0, 0, 0, 0, 0, 0, 0, 0, 0, 0, 0, 0, 1, 0, 0, 0],\n",
    " [0, 0, 0, 1, 0, 0, 0, 0, 0, 0, 0, 0, 1, 0, 0, 0, 0, 0, 0, 0],\n",
    " [0, 1, 0, 0, 0, 1, 0, 0, 0, 0, 0, 0, 0, 0, 0, 0, 0, 0, 0, 0],\n",
    " [0, 0, 0, 0, 0, 0, 0, 0, 0, 0, 0, 0, 1, 0, 0, 0, 0, 0, 0, 0]]\n",
    "\n",
    "rec1 = [[0, 0, 0, 0, 0, 0, 0, 0, 1, 1, 1, 1, 1, 1, 1, 1, 1, 1, 1, 1],\n",
    " [0, 0, 0, 0, 0, 0, 0, 0, 1, 1, 1, 2, 2, 2, 2, 2, 2, 2, 3, 3],\n",
    " [0, 0, 0, 0, 0, 0, 0, 0, 2, 2, 2, 2, 2, 2, 2, 2, 2, 2, 4, 4],\n",
    " [0, 0, 0, 0, 0, 0, 0, 0, 2, 2, 2, 2, 2, 2, 2, 2, 2, 2, 4, 4],\n",
    " [0, 0, 0, 0, 0, 0, 0, 1, 2, 2, 2, 2, 2, 2, 2, 2, 2, 3, 4, 4],\n",
    " [0, 0, 1, 1, 1, 1, 1, 1, 2, 2, 2, 2, 2, 2, 2, 2, 2, 3, 4, 5],\n",
    " [1, 1, 1, 1, 1, 1, 1, 1, 2, 2, 2, 2, 2, 2, 2, 2, 3, 3, 4, 5],\n",
    " [1, 1, 2, 3, 3, 3, 3, 3, 3, 3, 3, 3, 3, 3, 3, 3, 3, 3, 4, 5],\n",
    " [1, 1, 2, 3, 3, 3, 3, 3, 3, 3, 3, 4, 4, 4, 4, 4, 4, 4, 4, 5],\n",
    " [1, 1, 2, 3, 3, 3, 3, 3, 3, 3, 3, 4, 4, 4, 4, 4, 4, 4, 4, 5],\n",
    " [1, 1, 2, 3, 3, 3, 3, 3, 3, 3, 3, 4, 4, 4, 4, 4, 4, 4, 4, 5],\n",
    " [1, 1, 2, 3, 3, 3, 3, 3, 3, 3, 3, 4, 4, 4, 4, 4, 5, 5, 5, 5],\n",
    " [1, 1, 2, 4, 4, 4, 4, 4, 4, 4, 4, 4, 5, 5, 5, 5, 5, 5, 5, 5],\n",
    " [1, 2, 2, 4, 4, 5, 5, 5, 5, 5, 5, 5, 5, 5, 5, 5, 5, 5, 5, 5],\n",
    " [1, 2, 2, 4, 4, 5, 5, 5, 5, 5, 5, 5, 6, 6, 6, 6, 6, 6, 6, 6]]\n",
    "\n",
    "champ2 = [[1, 1, 1, 0, 1, 1, 0, 1, 1, 0, 1, 1],\n",
    " [1, 1, 0, 1, 1, 0, 1, 1, 1, 1, 1, 1],\n",
    " [0, 1, 1, 0, 1, 0, 1, 0, 0, 1, 1, 1],\n",
    " [0, 1, 1, 1, 1, 1, 1, 1, 0, 1, 1, 0],\n",
    " [1, 1, 1, 1, 1, 1, 1, 1, 1, 0, 1, 1],\n",
    " [1, 0, 1, 1, 1, 0, 0, 0, 1, 1, 0, 1],\n",
    " [0, 1, 1, 1, 1, 1, 1, 1, 1, 1, 1, 1],\n",
    " [1, 1, 0, 0, 0, 1, 1, 1, 1, 0, 0, 1],\n",
    " [1, 0, 0, 1, 1, 0, 1, 1, 1, 0, 1, 1]]\n",
    "\n",
    "rec2 = [[1, 2, 3, 3, 4, 5, 5, 6, 7, 7, 8, 9],\n",
    " [2, 3, 3, 4, 5, 5, 6, 7, 8, 9, 10, 11],\n",
    " [2, 4, 5, 5, 6, 6, 7, 7, 8, 10, 11, 12],\n",
    " [2, 5, 6, 7, 8, 9, 10, 11, 11, 12, 13, 13],\n",
    " [3, 6, 7, 8, 9, 10, 11, 12, 13, 13, 14, 15],\n",
    " [4, 6, 8, 9, 10, 10, 11, 12, 14, 15, 15, 16],\n",
    " [4, 7, 9, 10, 11, 12, 13, 14, 15, 16, 17, 18],\n",
    " [5, 8, 9, 10, 11, 13, 14, 15, 16, 16, 17, 19],\n",
    " [6, 8, 9, 11, 12, 13, 15, 16, 17, 17, 18, 20]]\n",
    "\n",
    "assert(calculer_recoltes_max(champ1) == rec1)\n",
    "assert(calculer_recoltes_max(champ2) == rec2)\n"
   ]
  },
  {
   "cell_type": "markdown",
   "metadata": {},
   "source": [
    "**Question 4 :**\n",
    "\n",
    "On suppose maintenant que chaque \"case\" du champ de fraises peut contenir 0, 1 ou plusieurs fraises.  \n",
    "Y a-t-il des modifications à apporter à la fonction `calculer_recoltes_max` ? Si oui, lesquelles ?"
   ]
  },
  {
   "cell_type": "raw",
   "metadata": {},
   "source": [
    "Non, aucune modification à apporter."
   ]
  },
  {
   "cell_type": "markdown",
   "metadata": {},
   "source": [
    "# Classement en chaîne ($\\star \\star$)"
   ]
  },
  {
   "cell_type": "markdown",
   "metadata": {},
   "source": [
    "On se base sur l'exercice d'algorithmique débranchée \"Classement en chaîne\" (voir Module \"Evaluations à faire pendant les vacances > Algorithmique débranchée\").\n",
    "\n",
    "**Question 1 :**  \n",
    "Ecrire une fonction `creer_matrice_matches(n)` qui renvoie une matrice `matches` de `n` lignes et `n` colonnes générée aléatoirement et telle que :\n",
    "- `matches[lig][col] = True` lorsque l'équipe numéro `lig` a gagné contre l'équipe numéro `col`,\n",
    "- `matches[lig][col] = False` lorsque l'équipe numéro `lig` a perdu contre l'équipe numéro `col`.\n",
    "    \n",
    "La diagonale de la matrice sera par convention remplie avec des `False`. \n",
    "On fera aussi attention au fait que si une équipe numéro `x` a gagné contre une équipe numéro `y`, l'équipe numéro `y` a perdu contre l'équipe numéro `x`. Autrement dit si `matches[x][y] == True` alors `matches[y][x] == False`."
   ]
  },
  {
   "cell_type": "code",
   "execution_count": null,
   "metadata": {},
   "outputs": [],
   "source": [
    "from random import choice\n",
    "\n",
    "# votre code ici     "
   ]
  },
  {
   "cell_type": "code",
   "execution_count": null,
   "metadata": {},
   "outputs": [],
   "source": [
    "matches = creer_matrice_matches(10)\n",
    "matches"
   ]
  },
  {
   "cell_type": "markdown",
   "metadata": {},
   "source": [
    "**Question 2 :**  \n",
    "Ecrire une fonction récursive `classement_en_chaine(matches, k)` qui prend en argument une matrice correspondant aux résultats des matches de `n` équipes et renvoie un tableau `chaine` de taille `k+1` correspondant à un classement en chaîne possible des `k+1` premières équipes (de `0` à `k`).\n",
    "\n",
    "On pourra éventuellement utiliser une fonction auxiliaire `inserer` qui se chargera de l'insertion de l'équipe numéro `k` dans le classement des équipes de numéros `0` à `k-1`.\n",
    "\n",
    "[Plus formellement, `chaine` comporte tous les entiers de `0` à `k` et pour tout indice `i < k`, l'équipe numéro `chaine[i]` a gagné son match contre l'équipe `chaine[i+1]`.]"
   ]
  },
  {
   "cell_type": "code",
   "execution_count": null,
   "metadata": {},
   "outputs": [],
   "source": [
    "# votre code ici\n"
   ]
  },
  {
   "cell_type": "code",
   "execution_count": null,
   "metadata": {},
   "outputs": [],
   "source": [
    "classement = classement_en_chaine(matches, len(matches)-1)\n",
    "classement"
   ]
  },
  {
   "cell_type": "code",
   "execution_count": null,
   "metadata": {},
   "outputs": [],
   "source": []
  }
 ],
 "metadata": {
  "celltoolbar": "Visualize",
  "kernelspec": {
   "display_name": "Python 3",
   "language": "python",
   "name": "python3"
  },
  "language_info": {
   "codemirror_mode": {
    "name": "ipython",
    "version": 3
   },
   "file_extension": ".py",
   "mimetype": "text/x-python",
   "name": "python",
   "nbconvert_exporter": "python",
   "pygments_lexer": "ipython3",
   "version": "3.8.3"
  }
 },
 "nbformat": 4,
 "nbformat_minor": 4
}
