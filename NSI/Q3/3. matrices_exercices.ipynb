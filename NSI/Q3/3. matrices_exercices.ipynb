{
 "cells": [
  {
   "cell_type": "markdown",
   "metadata": {},
   "source": [
    "### Exercice 1\n",
    "\n",
    "Ecrire une fonction `somme` qui prend en argument une matrice non vide de nombres entiers et renvoie la somme des nombres de cette matrice. Voici un exemple d'assertion qui doit être vérifiée par votre fonction :\n",
    "```\n",
    "assert(somme([[3, 8, 9, 11], \n",
    "              [6, 8, 1, -4],\n",
    "              [1, 1, 1, 0 ]]) == 45)\n",
    "```"
   ]
  },
  {
   "cell_type": "code",
   "execution_count": 1,
   "metadata": {},
   "outputs": [],
   "source": [
    "%load_ext tutormagic\n",
    "#integration de tutor magic dans le notebook"
   ]
  },
  {
   "cell_type": "code",
   "execution_count": 9,
   "metadata": {},
   "outputs": [
    {
     "data": {
      "text/html": [
       "\n",
       "        <iframe\n",
       "            width=\"100%\"\n",
       "            height=\"350\"\n",
       "            src=\"http://pythontutor.com/iframe-embed.html#code=%23%20votre%20code%20ici%0A%0Adef%20somme%28M%29%3A%0A%20%20%20%20total%20%3D%200%0A%20%20%20%20for%20i%20in%20range%20%28len%28M%29%29%3A%20%20%20%20%20%20%20%20%20%20%20%20%20%20%20%20%23pour%20l%27ensemble%20des%20lignes%20de%20la%20matrice%0A%20%20%20%20%20%20%20%20for%20j%20in%20range%20%28len%28M%5B0%5D%29%29%3A%20%20%20%20%20%20%20%20%20%23pour%20l%27ensemble%20des%20colonnes%20de%20la%20matrice%0A%20%20%20%20%20%20%20%20%20%20%20%20total%20%2B%3D%20M%5Bi%5D%5Bj%5D%0A%20%20%20%20return%20total%0A%20%20%20%20%0A%20%20%20%20%0A%0Aliste_nb%20%20%3D%20%5B%5B3%2C8%2C9%2C11%5D%2C%0A%20%20%20%20%20%20%20%20%20%20%20%5B6%2C8%2C1%2C-4%5D%2C%0A%20%20%20%20%20%20%20%20%20%20%20%5B1%2C1%2C1%2C0%5D%5D%0Aprint%28somme%28liste_nb%29%29%0A&origin=opt-frontend.js&cumulative=false&heapPrimitives=false&textReferences=false&curInstr=0&&verticalStack=false&py=3&rawInputLstJSON=%5B%5D&codeDivWidth=50%25&codeDivHeight=100%25\"\n",
       "            frameborder=\"0\"\n",
       "            allowfullscreen\n",
       "        ></iframe>\n",
       "        "
      ],
      "text/plain": [
       "<IPython.lib.display.IFrame at 0x2aa52032460>"
      ]
     },
     "metadata": {},
     "output_type": "display_data"
    }
   ],
   "source": [
    "%%tutor --lang python3\n",
    "# votre code ici\n",
    "\n",
    "def somme(M):\n",
    "    total = 0\n",
    "    for i in range (len(M)):                #pour l'ensemble des lignes de la matrice\n",
    "        for j in range (len(M[0])):         #pour l'ensemble des colonnes de la matrice\n",
    "            total += M[i][j]\n",
    "    return total\n",
    "    \n",
    "    \n",
    "\n",
    "liste_nb  = [[3,8,9,11],\n",
    "           [6,8,1,-4],\n",
    "           [1,1,1,0]]\n",
    "print(somme(liste_nb))"
   ]
  },
  {
   "cell_type": "markdown",
   "metadata": {},
   "source": [
    "### Exercice 2\n",
    "\n",
    "Ecrire une fonction `max_somme` qui prend en argument une matrice non vide et renvoie la plus grande somme des différentes colonnes. Voici deux exemples d'assertions qui doivent être vérifiées par votre fonction :\n",
    "```\n",
    "assert(max_somme([[3, 8, 9, 11], \n",
    "              [6, 8, 1, -4],\n",
    "              [1, 1, 1, 0 ]]) == 17)    #colonne d'indice 1 : 8 + 8 + 1 = 17\n",
    "              \n",
    "assert(max_somme([[-3, -8, -9, -11], \n",
    "                  [-6, -8, -1, 4  ],\n",
    "                  [-1, -1, -1, 0  ]]) == -7)    #colonne d'indice 3 : -11 + 4 + 0 = -7\n",
    "```"
   ]
  },
  {
   "cell_type": "code",
   "execution_count": null,
   "metadata": {},
   "outputs": [],
   "source": [
    "# votre code ici"
   ]
  },
  {
   "cell_type": "code",
   "execution_count": null,
   "metadata": {},
   "outputs": [],
   "source": [
    "assert(max_somme([[3, 8, 9, 11], \n",
    "                  [6, 8, 1, -4],\n",
    "                  [1, 1, 1, 0 ]]) == 17)    #colonne d'indice 1 : 8 + 8 + 1 = 17\n",
    "              \n",
    "assert(max_somme([[-3, -8, -9, -11], \n",
    "                  [-6, -8, -1, 4  ],\n",
    "                  [-1, -1, -1, 0  ]]) == -7)    #colonne d'indice 3 : -11 + 4 + 0 = -7"
   ]
  },
  {
   "cell_type": "markdown",
   "metadata": {},
   "source": [
    "### Exercice 3\n",
    "\n",
    "**Question 1 :**\n",
    "\n",
    "Ecrire une fonction `compresse` qui prend en argument une matrice non vide dont les éléments sont des entiers et modifie les éléments de la façon suivante :\n",
    "- si l'élément est positif, on diminue l'élément de une unité,\n",
    "- si l'élément est négatif, on augmente l'élément de une unité,\n",
    "- si l'élément est nul, on ne le modifie pas.\n",
    "\n",
    "La fonction devra **muter** la matrice en place et ne **renverra** donc aucune valeur.\n"
   ]
  },
  {
   "cell_type": "code",
   "execution_count": null,
   "metadata": {},
   "outputs": [],
   "source": [
    "# votre code ici"
   ]
  },
  {
   "cell_type": "code",
   "execution_count": null,
   "metadata": {},
   "outputs": [],
   "source": [
    "ma_matrice = [[ 0,  1,  2,  3,  4, 5],\n",
    "              [-1,  0,  1,  2,  3, 4],\n",
    "              [-2, -1,  0,  1,  2, 3],\n",
    "              [-3, -2, -1,  0,  1, 2],\n",
    "              [-4, -3, -2, -1,  0, 1],\n",
    "              [-5, -4, -3, -2, -1, 0]]"
   ]
  },
  {
   "cell_type": "code",
   "execution_count": null,
   "metadata": {},
   "outputs": [],
   "source": [
    "compresse(ma_matrice)\n",
    "ma_matrice"
   ]
  },
  {
   "cell_type": "markdown",
   "metadata": {},
   "source": [
    "**Question 2 :**\n",
    "\n",
    "Modifier la fonction précédente pour **qu'elle ne mute plus la matrice passée en argument qui devra rester intacte** mais qu'elle renvoie **une copie indépendante et compressée** de la matrice passée en argument."
   ]
  },
  {
   "cell_type": "code",
   "execution_count": null,
   "metadata": {},
   "outputs": [],
   "source": [
    "from copy import deepcopy\n",
    "\n",
    "# votre code ici"
   ]
  },
  {
   "cell_type": "code",
   "execution_count": null,
   "metadata": {},
   "outputs": [],
   "source": [
    "ma_matrice = [[ 0,  1,  2,  3,  4, 5],\n",
    "              [-1,  0,  1,  2,  3, 4],\n",
    "              [-2, -1,  0,  1,  2, 3],\n",
    "              [-3, -2, -1,  0,  1, 2],\n",
    "              [-4, -3, -2, -1,  0, 1],\n",
    "              [-5, -4, -3, -2, -1, 0]]"
   ]
  },
  {
   "cell_type": "code",
   "execution_count": null,
   "metadata": {},
   "outputs": [],
   "source": [
    "ma_matrice_compressee = compresse(ma_matrice)\n",
    "ma_matrice_compressee"
   ]
  },
  {
   "cell_type": "markdown",
   "metadata": {},
   "source": [
    "### Exercice 4\n",
    "\n",
    "Programmer une fonction `sablier` qui prend en argument un entier `n` strictement positif et renvoie une matrice de `n` lignes et `n` colonnes dont :\n",
    "- le quart supérieur contient des 8,\n",
    "- le quart inférieur contient des 1,\n",
    "- le reste de la matrice (dont les diagonales) contient des 0.\n",
    "\n",
    "Voici deux exemples d'assertions vérifiée par la fonction quatre couleurs:\n",
    "```\n",
    "assert(sablier(15) ==   [[0, 8, 8, 8, 8, 8, 8, 8, 8, 8, 8, 8, 8, 8, 0],\n",
    "                         [0, 0, 8, 8, 8, 8, 8, 8, 8, 8, 8, 8, 8, 0, 0],\n",
    "                         [0, 0, 0, 8, 8, 8, 8, 8, 8, 8, 8, 8, 0, 0, 0],\n",
    "                         [0, 0, 0, 0, 8, 8, 8, 8, 8, 8, 8, 0, 0, 0, 0],\n",
    "                         [0, 0, 0, 0, 0, 8, 8, 8, 8, 8, 0, 0, 0, 0, 0],\n",
    "                         [0, 0, 0, 0, 0, 0, 8, 8, 8, 0, 0, 0, 0, 0, 0],\n",
    "                         [0, 0, 0, 0, 0, 0, 0, 8, 0, 0, 0, 0, 0, 0, 0],\n",
    "                         [0, 0, 0, 0, 0, 0, 0, 0, 0, 0, 0, 0, 0, 0, 0],\n",
    "                         [0, 0, 0, 0, 0, 0, 0, 1, 0, 0, 0, 0, 0, 0, 0],\n",
    "                         [0, 0, 0, 0, 0, 0, 1, 1, 1, 0, 0, 0, 0, 0, 0],\n",
    "                         [0, 0, 0, 0, 0, 1, 1, 1, 1, 1, 0, 0, 0, 0, 0],\n",
    "                         [0, 0, 0, 0, 1, 1, 1, 1, 1, 1, 1, 0, 0, 0, 0],\n",
    "                         [0, 0, 0, 1, 1, 1, 1, 1, 1, 1, 1, 1, 0, 0, 0],\n",
    "                         [0, 0, 1, 1, 1, 1, 1, 1, 1, 1, 1, 1, 1, 0, 0],\n",
    "                         [0, 1, 1, 1, 1, 1, 1, 1, 1, 1, 1, 1, 1, 1, 0]]\n",
    "                         \n",
    "assert(sablier(8) ==    [[0, 8, 8, 8, 8, 8, 8, 0],\n",
    "                         [0, 0, 8, 8, 8, 8, 0, 0],\n",
    "                         [0, 0, 0, 8, 8, 0, 0, 0],\n",
    "                         [0, 0, 0, 0, 0, 0, 0, 0],\n",
    "                         [0, 0, 0, 0, 0, 0, 0, 0],\n",
    "                         [0, 0, 0, 1, 1, 0, 0, 0],\n",
    "                         [0, 0, 1, 1, 1, 1, 0, 0],\n",
    "                         [0, 1, 1, 1, 1, 1, 1, 0]]                                            \n",
    "```"
   ]
  },
  {
   "cell_type": "code",
   "execution_count": null,
   "metadata": {},
   "outputs": [],
   "source": [
    "# votre code ici"
   ]
  }
 ],
 "metadata": {
  "kernelspec": {
   "display_name": "Python 3",
   "language": "python",
   "name": "python3"
  },
  "language_info": {
   "codemirror_mode": {
    "name": "ipython",
    "version": 3
   },
   "file_extension": ".py",
   "mimetype": "text/x-python",
   "name": "python",
   "nbconvert_exporter": "python",
   "pygments_lexer": "ipython3",
   "version": "3.8.3"
  }
 },
 "nbformat": 4,
 "nbformat_minor": 4
}
