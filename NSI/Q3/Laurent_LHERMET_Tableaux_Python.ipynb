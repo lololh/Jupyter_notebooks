{
 "cells": [
  {
   "cell_type": "markdown",
   "metadata": {},
   "source": [
    "# <center>Tableaux</center>"
   ]
  },
  {
   "cell_type": "markdown",
   "metadata": {},
   "source": [
    "## 0.  Remarque importante"
   ]
  },
  {
   "cell_type": "markdown",
   "metadata": {},
   "source": [
    "* En python, ce que l'on désigne par le terme liste est en réalité ce que l'on appelle en algorithmique un tableau, c'est à dire une suite d'éléments contigus et ordonnés en mémoire. Ces éléments sont stockés en mémoire les uns à la suite des autres.\n",
    "\n",
    "\n",
    "##### Exemple :\n",
    "La fonction `id` donne \"l'identité\" d'un objet python, c'est à dire l'adresse de l'objet en mémoire."
   ]
  },
  {
   "cell_type": "code",
   "execution_count": 4,
   "metadata": {},
   "outputs": [
    {
     "name": "stdout",
     "output_type": "stream",
     "text": [
      "140736399947520\n",
      "140736399947552\n",
      "140736399947584\n",
      "140736399947616\n",
      "140736399947680\n"
     ]
    }
   ],
   "source": [
    "T=[0,1,2,3,5]\n",
    "print(id(T[0]))\n",
    "print(id(T[1]))\n",
    "print(id(T[2]))\n",
    "print(id(T[3]))\n",
    "print(id(T[4]))"
   ]
  },
  {
   "cell_type": "markdown",
   "metadata": {},
   "source": [
    "* En terminale, on aborde le concept de liste chaînée, ce qui est source de confusions pour les élèves. "
   ]
  },
  {
   "cell_type": "markdown",
   "metadata": {},
   "source": [
    "* Dans ce document, on utilisera abusivement le terme \"liste\" mais en gardant à l'esprit les remarques précédentes."
   ]
  },
  {
   "cell_type": "markdown",
   "metadata": {},
   "source": [
    "## 1. Le type list"
   ]
  },
  {
   "cell_type": "markdown",
   "metadata": {},
   "source": [
    " Sous Python, on peut définir une liste comme une collection d'éléments séparés par une virgule, l'ensemble étant délimité par des crochets.\n",
    " \n",
    " Exemples :"
   ]
  },
  {
   "cell_type": "code",
   "execution_count": 5,
   "metadata": {},
   "outputs": [
    {
     "name": "stdout",
     "output_type": "stream",
     "text": [
      "['Lun', 'Mar', 'Mer', 'Jeu', 'Ven'] <class 'list'>\n",
      "[['Dim', 21, 'Juin'], 20.0] <class 'list'>\n"
     ]
    }
   ],
   "source": [
    "#Exécuter le code ci-dessous :\n",
    "semaine = ['Lun','Mar','Mer','Jeu','Ven']\n",
    "jours = [1,2,3,4,5,6,7,8,9,10,11,12,13,14,15,16,17,18,19,20,21,22,23,24,25,26,27,28,29,30,31]\n",
    "mois = ['Jan','Fév','Mars','Avr','Mai','Juin','Juil','Août','Sep','Oct','Nov','Déc']\n",
    "temperatures = [-30.0,-20.0,-10.0,0.0,10.0,20.0,30.0,40.0]\n",
    "\n",
    "ajd = [['Dim',21,'Juin'],20.0]\n",
    "\n",
    "print (semaine, type(semaine))\n",
    "print (ajd, type(ajd))"
   ]
  },
  {
   "cell_type": "markdown",
   "metadata": {},
   "source": [
    "Les éléments individuels qui constituent une liste peuvent être de types variés :\n",
    " * Les éléments des listes `semaine` et `mois` sont des chaînes de caractères.\n",
    " * Les éléments de la liste `jours` sont des entiers.\n",
    " * Les éléments de la liste `temperatures` contient des nombres de type 'float'.\n",
    " * La liste `ajd` contient...2 éléments : une liste (elle-même composée de chaînes et d'un entier) et un nombre de type 'float'."
   ]
  },
  {
   "cell_type": "markdown",
   "metadata": {},
   "source": [
    "### Similitudes avec les chaînes de caractères"
   ]
  },
  {
   "cell_type": "markdown",
   "metadata": {},
   "source": [
    "#### Accès aux éléments :\n",
    "\n",
    "Comme les chaînes de caractères, les listes sont des collections ordonnées d’objets. On peut donc accéder à chaques élément individuellement si l’on connaît son index dans la liste . Comme pour les chaînes, l'index commence à partir de zéro.\n",
    "\n",
    "Exemples:"
   ]
  },
  {
   "cell_type": "code",
   "execution_count": 6,
   "metadata": {},
   "outputs": [
    {
     "name": "stdout",
     "output_type": "stream",
     "text": [
      "Lun\n",
      "31\n",
      "Mars\n"
     ]
    }
   ],
   "source": [
    "#Exécuter le code ci-dessous :\n",
    "print(semaine[0])\n",
    "print(jours[30])\n",
    "print(mois[2])"
   ]
  },
  {
   "cell_type": "markdown",
   "metadata": {},
   "source": [
    "##### Exercice 1 :\n",
    "Modifier le programme ci-dessus pour qu'il affiche la date d'aujourd'hui."
   ]
  },
  {
   "cell_type": "code",
   "execution_count": 7,
   "metadata": {},
   "outputs": [
    {
     "name": "stdout",
     "output_type": "stream",
     "text": [
      "Lun\n",
      "26\n",
      "Oct\n"
     ]
    }
   ],
   "source": [
    "# Réponse : à adapter en fonction de la date\n",
    "print(semaine[0])\n",
    "print(jours[25])\n",
    "print(mois[9])"
   ]
  },
  {
   "cell_type": "markdown",
   "metadata": {},
   "source": [
    "#### Longueur d'une liste\n",
    "La fonction `len`s'utilise aussi avec les listes.\n",
    "Exemples :"
   ]
  },
  {
   "cell_type": "code",
   "execution_count": 8,
   "metadata": {},
   "outputs": [
    {
     "name": "stdout",
     "output_type": "stream",
     "text": [
      "31\n",
      "2\n"
     ]
    }
   ],
   "source": [
    "print(len(jours)) #affiche la longueur de la liste 'jours', c'est à dire son nombre d'éléments\n",
    "print(len(ajd)) # la liste 'ajd' contient 2 éléments"
   ]
  },
  {
   "cell_type": "markdown",
   "metadata": {},
   "source": [
    "#### Concaténation et répétition\n",
    "Comme pour les chaînes, on peut utiliser l'opérateur `+` (non commutatif)  pour rassembler 2 listes par concanténattion et `*` pour assembler par répétition \n",
    "\n",
    "Exemples :"
   ]
  },
  {
   "cell_type": "code",
   "execution_count": 9,
   "metadata": {},
   "outputs": [
    {
     "name": "stdout",
     "output_type": "stream",
     "text": [
      "[1, 2, 3, 4, 5, 6]\n",
      "[4, 5, 6, 1, 2, 3]\n",
      "[1, 2, 3, 1, 2, 3, 4, 5, 6, 4, 5, 6, 4, 5, 6]\n"
     ]
    }
   ],
   "source": [
    "#Exécuter le code ci-dessous :\n",
    "L1=[1,2,3]\n",
    "L2=[4,5,6]\n",
    "print(L1+L2)\n",
    "print(L2+L1)\n",
    "\n",
    "print(2*L1+3*L2)"
   ]
  },
  {
   "cell_type": "markdown",
   "metadata": {},
   "source": [
    "### Différences avec les chaînes"
   ]
  },
  {
   "cell_type": "markdown",
   "metadata": {},
   "source": [
    "#### Modifier des éléments\n",
    "À la différence de ce qui se passe pour les chaînes, qui constituent un type de données non-modifiable (immuable), il est possible de modifier les éléments individuels d’une liste, elle est mutable :"
   ]
  },
  {
   "cell_type": "code",
   "execution_count": 10,
   "metadata": {},
   "outputs": [
    {
     "name": "stdout",
     "output_type": "stream",
     "text": [
      "['Dim', 'Mar', 'Mer', 'Jeu', 'Ven']\n"
     ]
    }
   ],
   "source": [
    "# Executer le code ci-dessous\n",
    "semaine[0]='Dim'\n",
    "print(semaine)"
   ]
  },
  {
   "cell_type": "markdown",
   "metadata": {},
   "source": [
    "##### Exercice 2:\n",
    "Annuler la modification précédente"
   ]
  },
  {
   "cell_type": "code",
   "execution_count": 14,
   "metadata": {},
   "outputs": [
    {
     "name": "stdout",
     "output_type": "stream",
     "text": [
      "['Lun', 'Mar', 'Mer', 'Jeu', 'Ven']\n"
     ]
    }
   ],
   "source": [
    "#Réponse:\n",
    "semaine[0]='Lun'\n",
    "print(semaine)"
   ]
  },
  {
   "cell_type": "markdown",
   "metadata": {},
   "source": [
    "#### Supprimer des éléments\n",
    "La fonction `del` permet de supprimer d’une liste un élément quelconque, à partir de son index."
   ]
  },
  {
   "cell_type": "code",
   "execution_count": 15,
   "metadata": {},
   "outputs": [
    {
     "name": "stdout",
     "output_type": "stream",
     "text": [
      "['Lun', 'Mar', 'Mer', 'Jeu']\n"
     ]
    }
   ],
   "source": [
    "del(semaine[4])\n",
    "print(semaine)"
   ]
  },
  {
   "cell_type": "markdown",
   "metadata": {},
   "source": [
    "#### Ajouter des éléments\n",
    "On peut ajouter un élément à une liste. Pour cela, il faut considérer que la liste est un objet, dont on va utiliser l’une des méthodes, ici la méthode `append`."
   ]
  },
  {
   "cell_type": "code",
   "execution_count": 16,
   "metadata": {},
   "outputs": [
    {
     "name": "stdout",
     "output_type": "stream",
     "text": [
      "['Lun', 'Mar', 'Mer', 'Jeu', 'Ven']\n"
     ]
    }
   ],
   "source": [
    "#Exécuter le code ci-dessous\n",
    "semaine.append('Ven')\n",
    "print(semaine)"
   ]
  },
  {
   "cell_type": "markdown",
   "metadata": {},
   "source": [
    "Remarques :\n",
    "   * \"append\" en anglais veut dire \"ajouter\".\n",
    "   * L'élément est ajouté à la fin de la liste.\n",
    "   * On applique une méthode à un objet en reliant les deux à l’aide d’un point."
   ]
  },
  {
   "cell_type": "markdown",
   "metadata": {},
   "source": [
    "##### Exercice 3:\n",
    "Ajouter le week-end à la liste `semaine` et l'afficher"
   ]
  },
  {
   "cell_type": "code",
   "execution_count": 18,
   "metadata": {},
   "outputs": [
    {
     "name": "stdout",
     "output_type": "stream",
     "text": [
      "['Lun', 'Mar', 'Mer', 'Jeu', 'Ven', 'Sam', 'Dim']\n"
     ]
    }
   ],
   "source": [
    "# Réponse :\n",
    "semaine.append('Sam')\n",
    "semaine.append('Dim')\n",
    "print(semaine)\n"
   ]
  },
  {
   "cell_type": "markdown",
   "metadata": {},
   "source": [
    "#### Autres méthodes\n",
    "* Il existe bien sûr de nombreuses méthodes permettant d'agir sur les listes python(trier, renverser, etc..)\n",
    "* Documentation : https://docs.python.org/fr/3/tutorial/datastructures.html"
   ]
  },
  {
   "cell_type": "markdown",
   "metadata": {},
   "source": [
    "## 2. Points de vigilance"
   ]
  },
  {
   "cell_type": "markdown",
   "metadata": {},
   "source": [
    "### La copie de tableau\n",
    "Considérons une liste `L1` à copier dans une autre variable `L2`.On pourrait penser procéder ainsi :"
   ]
  },
  {
   "cell_type": "code",
   "execution_count": 19,
   "metadata": {},
   "outputs": [],
   "source": [
    "L1=[1,1,2,3,5]\n",
    "L2=L1"
   ]
  },
  {
   "cell_type": "markdown",
   "metadata": {},
   "source": [
    "Modifions le contenu de `L2`"
   ]
  },
  {
   "cell_type": "code",
   "execution_count": 20,
   "metadata": {},
   "outputs": [
    {
     "name": "stdout",
     "output_type": "stream",
     "text": [
      "[1, 1, 2, 3, 5, 8]\n"
     ]
    }
   ],
   "source": [
    "L2.append(8)\n",
    "print(L2)"
   ]
  },
  {
   "cell_type": "markdown",
   "metadata": {},
   "source": [
    "Mais..."
   ]
  },
  {
   "cell_type": "code",
   "execution_count": 21,
   "metadata": {},
   "outputs": [
    {
     "name": "stdout",
     "output_type": "stream",
     "text": [
      "[1, 1, 2, 3, 5, 8]\n"
     ]
    }
   ],
   "source": [
    "print(L1)"
   ]
  },
  {
   "cell_type": "markdown",
   "metadata": {},
   "source": [
    "Remarque :\n",
    "* En procédant ainsi, on ne crée pas une véritable copie. À la suite de l'instruction `L1=L2`, il\n",
    "n’existe toujours qu’un seul objet dans la mémoire de l’ordinateur.Une nouvelle référence vers cette liste est créée (un alias) mais toute modification souhaitée utilisant les alias `L1` ou `L2` implique la modification de l'objet."
   ]
  },
  {
   "cell_type": "markdown",
   "metadata": {},
   "source": [
    "##### Exercice 4 :\n",
    "Ecrire la fonction `copy(L)` qui prend en paramètre une liste et qui renvoie une \"véritable\" copie de la liste L. On pourra ainsi agir sur cette copie sans modifier `L`."
   ]
  },
  {
   "cell_type": "code",
   "execution_count": 28,
   "metadata": {},
   "outputs": [
    {
     "name": "stdout",
     "output_type": "stream",
     "text": [
      "[1, 1, 2, 3, 5, 8]\n",
      "[1, 1, 2, 3, 5, 8, 13]\n"
     ]
    }
   ],
   "source": [
    "def copy(L) :\n",
    "    '''Crée une copie de la liste L'''\n",
    "    bis=[]                     #Création d'une liste vide\n",
    "    for i in range (len(L)):   # Répetition autant de fois que de termes dans la liste L transmise\n",
    "        bis.append(L[i])       #remplissage de la liste bis par le contenu de la liste L\n",
    "    return bis                 #retour de la liste bis copiée\n",
    "\n",
    "L1=[1,1,2,3,5,8]\n",
    "L2=copy(L1)\n",
    "L2.append(13)\n",
    "print(L1)\n",
    "print(L2)"
   ]
  },
  {
   "cell_type": "markdown",
   "metadata": {},
   "source": [
    "### A propos de l'insertion et de la suppression"
   ]
  },
  {
   "cell_type": "markdown",
   "metadata": {},
   "source": [
    "##### Exercice 5:\n",
    "On considère le tableau ci-dessous :\n",
    "\n",
    "<center>$|\\;\\;1 \\; \\;|\\;\\;  1\\; \\; |\\; \\; 3 \\;\\; | \\;\\; 5 \\;\\; |\\;\\;  8 \\; \\;|$</center>\n",
    "\n",
    "On souhaite insérer la valeur $0$ en première position et obtenir le tableau suivant: \n",
    "\n",
    "<center>$|\\;\\;0\\;\\;|\\;\\;1 \\; \\;|\\;\\;  1\\; \\; |\\; \\; 3 \\;\\; | \\;\\; 5 \\;\\; |\\;\\;  8 \\; \\;|$</center>\n",
    "\n",
    "\n",
    "<br/>\n",
    "<br/>\n",
    " \n",
    "*   On commence par agrandir le tableau, en ajoutant un nouvel emplacement à la fin  :\n",
    "\n",
    "<center>$|\\;\\;1 \\; \\;|\\;\\;  1\\; \\; |\\; \\; 3 \\;\\; | \\;\\; 5 \\;\\; |\\;\\;  8 \\; \\;|\\;\\;\\;\\;\\;|$</center>\n",
    "\n",
    "*  Il faut ensuite décaler tous les élements du tableau initial vers la droite en commençant par le dernier :\n",
    "\n",
    "<center>$|\\;\\;1\\;\\;|\\;\\;1 \\; \\;|\\;\\;  1\\; \\; |\\; \\; 3 \\;\\; | \\;\\; 5 \\;\\; |\\;\\;  8 \\; \\;|$</center>\n",
    "\n",
    "*  Enfin, on écrit la valeur souhaitée dans la première case du tableau :\n",
    "\n",
    "<center>$|\\;\\;0\\;\\;|\\;\\;1 \\; \\;|\\;\\;  1\\; \\; |\\; \\; 3 \\;\\; | \\;\\; 5 \\;\\; |\\;\\;  8 \\; \\;|$</center>\n",
    "\n",
    "\n",
    "Questions :\n",
    "\n",
    "Considérons maintenant un tableau qui comporte 1 millions d'éléments.\n",
    "1. Combien de déplacements seront nécéssaires pour insérer une valeur en première position ?\n",
    "2. Et si l'on souhaite supprimer le premier élément ?"
   ]
  },
  {
   "cell_type": "markdown",
   "metadata": {},
   "source": [
    "Réponses : \n",
    "1. Si 1 000 000 d'élements, il faudra faire 1 000 000 de déplacements après avoir rajouté un nouvel emplacement à la fin.\n",
    "2. Si l'on souhaite supprimer le premier élement, le recours à del(L1[0]) permet de supprimer le premier élement directement en une opération. La liste est automatiquement raccourcie d'un élément."
   ]
  },
  {
   "cell_type": "markdown",
   "metadata": {},
   "source": [
    "##### Remarques :\n",
    "* Le coût en temps de l'insertion d'un élément en première position est considérable puisqu'il faut décaler tous les éléments déjà présent.\n",
    "* Il en est de même pour la suppression.\n",
    "* L'utilisation des méthodes `insert` et `pop` sont donc à utiliser avec précaution."
   ]
  },
  {
   "cell_type": "markdown",
   "metadata": {},
   "source": [
    "A voir avec les formateurs :\n",
    "    Suppression du 1er élement avec une seule opération non ?\n",
    "Je ne comprends pas l'enchainement entre les questions préalables et la remarque sur les méthodes insert et pop.\n"
   ]
  },
  {
   "cell_type": "markdown",
   "metadata": {},
   "source": [
    "```python\n",
    "\n",
    "complément perso\n",
    "\n",
    "\n",
    "list.append(x)\n",
    "\n",
    "  # Ajoute un élément à la fin de la liste. Équivalent à a[len(a):] = [x].\n",
    "\n",
    "\n",
    "list.insert(i, x)\n",
    "\n",
    "   # Insère un élément à la position indiquée. Le premier argument est la position de l'élément courant avant lequel l'insertion doit s'effectuer, donc a.insert(0, x) insère l'élément en tête de la liste et a.insert(len(a), x) est équivalent à a.append(x).\n",
    "\n",
    "list.pop([i])\n",
    "\n",
    "    # Enlève de la liste l'élément situé à la position indiquée et le renvoie en valeur de retour. Si aucune position n'est spécifiée, a.pop() enlève et renvoie le dernier élément de la liste (les crochets autour du i dans la signature de la méthode indiquent que ce paramètre est facultatif et non que vous devez placer des crochets dans votre code ! \n",
    "\n",
    "```\n"
   ]
  },
  {
   "cell_type": "code",
   "execution_count": 30,
   "metadata": {},
   "outputs": [
    {
     "name": "stdout",
     "output_type": "stream",
     "text": [
      "[1, 1, 3, 5, 8]\n",
      "[2]\n"
     ]
    }
   ],
   "source": [
    "#ajout perso\n",
    "\n",
    "L1=[1,1,2,3,5,8]\n",
    "L2=[]\n",
    "#L1.insert(2,'L')\n",
    "L2.append(L1.pop(2))\n",
    "#del(L1[2])\n",
    "print(L1)\n",
    "print(L2)"
   ]
  },
  {
   "cell_type": "markdown",
   "metadata": {},
   "source": [
    "## 3. Générer des tableaux"
   ]
  },
  {
   "cell_type": "markdown",
   "metadata": {},
   "source": [
    "### Listes en compréhension"
   ]
  },
  {
   "cell_type": "markdown",
   "metadata": {},
   "source": [
    "Voici un programme qui ajoute des éléments dans une liste façon successive:"
   ]
  },
  {
   "cell_type": "code",
   "execution_count": 31,
   "metadata": {},
   "outputs": [
    {
     "name": "stdout",
     "output_type": "stream",
     "text": [
      "[0, 2, 4, 6, 8, 10, 12, 14, 16, 18]\n"
     ]
    }
   ],
   "source": [
    "L=[]\n",
    "for i in range(20):\n",
    "    if i%2==0:\n",
    "        L.append(i)\n",
    "print(L)"
   ]
  },
  {
   "cell_type": "markdown",
   "metadata": {},
   "source": [
    "Il existe une manière plus concise de procéder, la définition en compréhension :"
   ]
  },
  {
   "cell_type": "code",
   "execution_count": 32,
   "metadata": {},
   "outputs": [
    {
     "name": "stdout",
     "output_type": "stream",
     "text": [
      "[0, 2, 4, 6, 8, 10, 12, 14, 16, 18]\n"
     ]
    }
   ],
   "source": [
    "# Une liste en compréhension\n",
    "L=[i for i in range(20) if i%2==0]\n",
    "print(L)"
   ]
  },
  {
   "cell_type": "markdown",
   "metadata": {},
   "source": [
    "#### Syntaxes\n",
    "Voici des types d'instructions possibles pour générer des listes en compréhension:\n",
    "\n",
    "*  [*fonction de x*  **for** *x in ensemble* ]\n",
    "*  [*fonction de x* **if** *condition sur x* **else** *autre fonction de x* **for** *x in ensemble* ]\n",
    "*  [*fonction de x* **for** *x in ensemble* **if** *condition sur x* ]\n",
    "\n",
    "#### Exemples:"
   ]
  },
  {
   "cell_type": "code",
   "execution_count": 33,
   "metadata": {
    "scrolled": true
   },
   "outputs": [
    {
     "name": "stdout",
     "output_type": "stream",
     "text": [
      "[0, 3, 6, 9, 12, 15, 18, 21, 24, 27, 30]\n",
      "[2, 4, 4, 1, 5, 6, 2, 5, 6, 6]\n",
      "['F', 'F', 'F', 'F', 'P', 'P', 'F', 'P', 'P', 'F', 'F', 'F', 'P', 'P', 'P', 'F', 'F', 'F', 'P', 'P']\n"
     ]
    }
   ],
   "source": [
    "#1\n",
    "L=[3*i for i in range(11)]\n",
    "print(L)\n",
    "\n",
    "#2\n",
    "from random import *\n",
    "n=10\n",
    "Des=[randint(1,6) for i in range(n)]\n",
    "print(Des)\n",
    "\n",
    "#3\n",
    "pileface=[choice(['P','F']) for i in range(20)]\n",
    "print(pileface)"
   ]
  },
  {
   "cell_type": "markdown",
   "metadata": {},
   "source": [
    "##### Exercice 6:\n",
    "En utilisant la syntaxe des listes en compréhension :\n",
    "1. Générer les entiers naturels de 1 à 100.\n",
    "2. Générer les multiples de 5 inférieurs ou égaux à 100.\n",
    "3. Générer une liste des entiers naturels de 1 à 100 dans laquelle les multiples de 5 seront remplacées par le caractère `*`"
   ]
  },
  {
   "cell_type": "code",
   "execution_count": 35,
   "metadata": {},
   "outputs": [
    {
     "name": "stdout",
     "output_type": "stream",
     "text": [
      "[1, 2, 3, 4, 5, 6, 7, 8, 9, 10, 11, 12, 13, 14, 15, 16, 17, 18, 19, 20, 21, 22, 23, 24, 25, 26, 27, 28, 29, 30, 31, 32, 33, 34, 35, 36, 37, 38, 39, 40, 41, 42, 43, 44, 45, 46, 47, 48, 49, 50, 51, 52, 53, 54, 55, 56, 57, 58, 59, 60, 61, 62, 63, 64, 65, 66, 67, 68, 69, 70, 71, 72, 73, 74, 75, 76, 77, 78, 79, 80, 81, 82, 83, 84, 85, 86, 87, 88, 89, 90, 91, 92, 93, 94, 95, 96, 97, 98, 99, 100]\n",
      "[1, 2, 3, 4, 5, 6, 7, 8, 9, 10, 11, 12, 13, 14, 15, 16, 17, 18, 19, 20, 21, 22, 23, 24, 25, 26, 27, 28, 29, 30, 31, 32, 33, 34, 35, 36, 37, 38, 39, 40, 41, 42, 43, 44, 45, 46, 47, 48, 49, 50, 51, 52, 53, 54, 55, 56, 57, 58, 59, 60, 61, 62, 63, 64, 65, 66, 67, 68, 69, 70, 71, 72, 73, 74, 75, 76, 77, 78, 79, 80, 81, 82, 83, 84, 85, 86, 87, 88, 89, 90, 91, 92, 93, 94, 95, 96, 97, 98, 99, 100]\n"
     ]
    }
   ],
   "source": [
    "#1.\n",
    "L=[i for i in range (1,101)]\n",
    "print(L)\n",
    "M=[i+1 for i in range (100)] #2ème version\n",
    "print (M)"
   ]
  },
  {
   "cell_type": "code",
   "execution_count": 37,
   "metadata": {},
   "outputs": [
    {
     "name": "stdout",
     "output_type": "stream",
     "text": [
      "[0, 5, 10, 15, 20, 25, 30, 35, 40, 45, 50, 55, 60, 65, 70, 75, 80, 85, 90, 95, 100]\n"
     ]
    }
   ],
   "source": [
    "#2.\n",
    "L=[i for i in range (101) if i%5==0] #inférieurs ou EGAUX à 100\n",
    "print (L)"
   ]
  },
  {
   "cell_type": "code",
   "execution_count": 52,
   "metadata": {},
   "outputs": [
    {
     "name": "stdout",
     "output_type": "stream",
     "text": [
      "[0, 1, 2, 3, 4, 5, 6, 7, 8, 9, 10, 11, 12, 13, 14, 15, 16, 17, 18, 19, 20, 21, 22, 23, 24, 25, 26, 27, 28, 29, 30, 31, 32, 33, 34, 35, 36, 37, 38, 39, 40, 41, 42, 43, 44, 45, 46, 47, 48, 49, 50, 51, 52, 53, 54, 55, 56, 57, 58, 59, 60, 61, 62, 63, 64, 65, 66, 67, 68, 69, 70, 71, 72, 73, 74, 75, 76, 77, 78, 79, 80, 81, 82, 83, 84, 85, 86, 87, 88, 89, 90, 91, 92, 93, 94, 95, 96, 97, 98, 99, 100]\n",
      "['*', 1, 2, 3, 4, '*', 6, 7, 8, 9, '*', 11, 12, 13, 14, '*', 16, 17, 18, 19, '*', 21, 22, 23, 24, '*', 26, 27, 28, 29, '*', 31, 32, 33, 34, '*', 36, 37, 38, 39, '*', 41, 42, 43, 44, '*', 46, 47, 48, 49, '*', 51, 52, 53, 54, '*', 56, 57, 58, 59, '*', 61, 62, 63, 64, '*', 66, 67, 68, 69, '*', 71, 72, 73, 74, '*', 76, 77, 78, 79, '*', 81, 82, 83, 84, '*', 86, 87, 88, 89, '*', 91, 92, 93, 94, '*', 96, 97, 98, 99, '*']\n",
      "['*', 1, 2, 3, 4, '*', 6, 7, 8, 9, '*', 11, 12, 13, 14, '*', 16, 17, 18, 19, '*', 21, 22, 23, 24, '*', 26, 27, 28, 29, '*', 31, 32, 33, 34, '*', 36, 37, 38, 39, '*', 41, 42, 43, 44, '*', 46, 47, 48, 49, '*', 51, 52, 53, 54, '*', 56, 57, 58, 59, '*', 61, 62, 63, 64, '*', 66, 67, 68, 69, '*', 71, 72, 73, 74, '*', 76, 77, 78, 79, '*', 81, 82, 83, 84, '*', 86, 87, 88, 89, '*', 91, 92, 93, 94, '*', 96, 97, 98, 99, '*']\n"
     ]
    }
   ],
   "source": [
    "#3.\n",
    "L=[i for i in range (101)]\n",
    "print(L)\n",
    "Lf = [n if n % 5 != 0 else '*' for n in L]\n",
    "print(Lf)\n",
    "# solution alternative\n",
    "M = [n if n % 5 != 0 else '*' for n in range(101)]\n",
    "print(M)"
   ]
  },
  {
   "cell_type": "markdown",
   "metadata": {},
   "source": [
    "##### Exercice 7:\n",
    "En utilisant les fonctions `randint()` ou `choice()` du module `random` et la syntaxe des listes en compréhension:\n",
    "1. Générer une liste de 20 entiers naturels aléatoires entre 0 et 255.\n",
    "2. Générer 100 caractères au hasard parmi `a`,`b`,`c`"
   ]
  },
  {
   "cell_type": "code",
   "execution_count": 53,
   "metadata": {},
   "outputs": [
    {
     "name": "stdout",
     "output_type": "stream",
     "text": [
      "[243, 17, 120, 249, 244, 10, 106, 18, 47, 115, 223, 110, 157, 69, 188, 102, 164, 178, 244, 35]\n"
     ]
    }
   ],
   "source": [
    "#1.\n",
    "from random import *\n",
    "n=20\n",
    "Des=[randint(0,255) for i in range(n)]\n",
    "print(Des)"
   ]
  },
  {
   "cell_type": "code",
   "execution_count": 56,
   "metadata": {},
   "outputs": [
    {
     "name": "stdout",
     "output_type": "stream",
     "text": [
      "['b', 'b', 'a', 'b', 'b', 'c', 'c', 'b', 'b', 'c', 'c', 'a', 'b', 'b', 'b', 'a', 'c', 'c', 'a', 'b', 'c', 'c', 'b', 'c', 'b', 'a', 'b', 'c', 'b', 'a', 'a', 'c', 'b', 'a', 'b', 'c', 'b', 'a', 'a', 'c', 'c', 'a', 'b', 'b', 'c', 'c', 'b', 'a', 'b', 'a', 'c', 'c', 'b', 'b', 'b', 'b', 'a', 'a', 'b', 'a', 'a', 'b', 'a', 'b', 'c', 'c', 'c', 'c', 'a', 'a', 'b', 'c', 'a', 'b', 'c', 'a', 'b', 'a', 'c', 'a', 'b', 'a', 'b', 'b', 'b', 'c', 'b', 'a', 'c', 'b', 'c', 'b', 'b', 'c', 'c', 'a', 'a', 'c', 'a', 'a']\n"
     ]
    }
   ],
   "source": [
    "#2.\n",
    "Lis=[choice(['a','b','c']) for i in range(100)]\n",
    "print(Lis)"
   ]
  },
  {
   "cell_type": "markdown",
   "metadata": {},
   "source": [
    "##### Exercice 8 : Synthèse"
   ]
  },
  {
   "cell_type": "markdown",
   "metadata": {},
   "source": [
    "Le saviez-vous ? &#128513;\n",
    "\n",
    "Un nombre premier est un nombre qui n’est divisible que par un et par lui-même. \n",
    "\n",
    "Écrivez la fonction `premier(n)` qui renvoie la liste de tous les nombres premiers compris entre 1 et `n`, en utilisant la méthode du crible d’Eratosthène :\n",
    "* Créez une liste de 1000 éléments, chacun initialisé à la valeur 1.\n",
    "* Parcourez cette liste à partir de l’élément d’indice 2 : si l’élément analysé possède la valeur 1, mettez à zéro tous les autres éléments de la liste, dont les indices sont des multiples entiers de l’indice auquel vous êtes arrivé. Lorsque vous aurez parcouru ainsi toute la liste, les indices des éléments restés à 1 sont des nombres premiers.\n",
    "\n",
    "\n",
    "En effet : \n",
    "\n",
    "A partir de l’indice 2, vous annulez tous les éléments d’indices pairs : 4, 6, 8, 10, etc... Avec l’indice 3, vous annulez les éléments d’indices 6, 9, 12, 15, etc., et ainsi de suite. Seuls resteront à 1 les éléments dont les indices sont effectivement des nombres premiers.\n",
    "\n",
    "* Il reste enfin à reconstituer la liste des nombres premiers entre 1 et `n` à partir des indices des éléments restés à 1 (on pourra générer cette liste en compréhension)"
   ]
  },
  {
   "cell_type": "code",
   "execution_count": 124,
   "metadata": {},
   "outputs": [
    {
     "name": "stdout",
     "output_type": "stream",
     "text": [
      "[2, 3, 5, 7, 11, 13, 17, 19, 23, 29, 31, 37, 41, 43, 47, 53, 59, 61, 67, 71, 73, 79, 83, 89, 97, 101, 103, 107, 109, 113, 127, 131, 137, 139, 149, 151, 157, 163, 167, 173, 179, 181, 191, 193, 197, 199, 211, 223, 227, 229, 233, 239, 241, 251, 257, 263, 269, 271, 277, 281, 283, 293, 307, 311, 313, 317, 331, 337, 347, 349, 353, 359, 367, 373, 379, 383, 389, 397, 401, 409, 419, 421, 431, 433, 439, 443, 449, 457, 461, 463, 467, 479, 487, 491, 499, 503, 509, 521, 523, 541, 547, 557, 563, 569, 571, 577, 587, 593, 599, 601, 607, 613, 617, 619, 631, 641, 643, 647, 653, 659, 661, 673, 677, 683, 691, 701, 709, 719, 727, 733, 739, 743, 751, 757, 761, 769, 773, 787, 797, 809, 811, 821, 823, 827, 829, 839, 853, 857, 859, 863, 877, 881, 883, 887, 907, 911, 919, 929, 937, 941, 947, 953, 967, 971, 977, 983, 991, 997]\n"
     ]
    }
   ],
   "source": [
    "def premier(n) :\n",
    "    '''renvoie la liste des nombres premiers\n",
    "    inférieurs ou égaux à n'''\n",
    "    n +=1\n",
    "    Linit = [1 for i in range (n)]\n",
    "    # Linit = [1,1]+[1 for i in range(2,n)]\n",
    "    # print(Linit)     #affichage pour debuggage\n",
    "    \n",
    "    for indice in range(2,n):\n",
    "        if Linit[indice]==1:\n",
    "            #on va effacer tous les indices multiples de indice jusqu'à n\n",
    "            for j in range(indice*2,n,indice):\n",
    "                Linit[j]=0\n",
    "            # print (Linit,'avec comme indice', indice) #affichage pour debuggage \n",
    "    Lfin = [p for p in range(2,n) if Linit[p]!=0]\n",
    "    return Lfin\n",
    "                \n",
    "print(premier(1000))          \n"
   ]
  },
  {
   "cell_type": "code",
   "execution_count": 125,
   "metadata": {},
   "outputs": [
    {
     "name": "stdout",
     "output_type": "stream",
     "text": [
      "[2, 3, 5, 7, 11, 13, 17, 19, 23, 29, 31, 37, 41, 43, 47, 53, 59, 61, 67, 71, 73, 79, 83, 89, 97, 101, 103, 107, 109, 113, 127, 131, 137, 139, 149, 151, 157, 163, 167, 173, 179, 181, 191, 193, 197, 199, 211, 223, 227, 229, 233, 239, 241, 251, 257, 263, 269, 271, 277, 281, 283, 293, 307, 311, 313, 317, 331, 337, 347, 349, 353, 359, 367, 373, 379, 383, 389, 397, 401, 409, 419, 421, 431, 433, 439, 443, 449, 457, 461, 463, 467, 479, 487, 491, 499, 503, 509, 521, 523, 541, 547, 557, 563, 569, 571, 577, 587, 593, 599, 601, 607, 613, 617, 619, 631, 641, 643, 647, 653, 659, 661, 673, 677, 683, 691, 701, 709, 719, 727, 733, 739, 743, 751, 757, 761, 769, 773, 787, 797, 809, 811, 821, 823, 827, 829, 839, 853, 857, 859, 863, 877, 881, 883, 887, 907, 911, 919, 929, 937, 941, 947, 953, 967, 971, 977, 983, 991, 997]\n"
     ]
    }
   ],
   "source": [
    "#Solution Web\n",
    "\n",
    "def eratosthene(n):\n",
    "    \"\"\"retourne la tableau des nombres premiers <= n (crible d'eratosthene)\"\"\"\n",
    "    n += 1\n",
    "    tableau = [0,0] + [i for i in range(2, n)]\n",
    "    for i in range(2, n):\n",
    "        if tableau[i] != 0:\n",
    "            # c'est un nombre 1er: on garde, mais on neutralise ses multiples\n",
    "            for j in range(i*2, n, i):\n",
    "                tableau[j] = 0\n",
    "    return [p for p in tableau if p!=0]  \n",
    "\n",
    "print (eratosthene(1000))"
   ]
  }
 ],
 "metadata": {
  "kernelspec": {
   "display_name": "Python 3",
   "language": "python",
   "name": "python3"
  },
  "language_info": {
   "codemirror_mode": {
    "name": "ipython",
    "version": 3
   },
   "file_extension": ".py",
   "mimetype": "text/x-python",
   "name": "python",
   "nbconvert_exporter": "python",
   "pygments_lexer": "ipython3",
   "version": "3.8.3"
  }
 },
 "nbformat": 4,
 "nbformat_minor": 2
}
