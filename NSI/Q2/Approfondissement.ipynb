{
 "cells": [
  {
   "cell_type": "markdown",
   "metadata": {},
   "source": [
    "# Approfondissement : applcation au cryptage d'un message\n",
    "\n",
    "**Cryptage**\n",
    "> Transformation d'un message en clair en un message codé compréhensible seulement par qui dispose du code\n",
    "\n",
    "L'informatique permet d'automatiser le procédé de crytpage et décryptage d'un message, dans ce notebbok vous allez simuler le fonctionnement d'un logiciel de mail qui crypte/décrypte les messages.  \n",
    "\n",
    "Deux personnes 'Alice' et 'Bob' vont utiliser ce procédé pour communiquer."
   ]
  },
  {
   "cell_type": "markdown",
   "metadata": {},
   "source": [
    "<div class=\"alert alert-block alert-info\">\n",
    "Cher agent 'EVE', votre misssion sera découvrir le message envoyé par Alice à Bob qui a été intercepté en écoutant le réseau.  \n",
    "Nos cryptographes n'ont pas réussi, nous comptons sur vous ! Voici le message :\n",
    "\n",
    "\n",
    "</div>\n",
    "    \n",
    "'010011010111101001101001011110010111101001110101001011010111000101101010011100000110111000100000111000000010000001100111001001110111011001101001011000100110011101111010001000000111100101111010001000000110011101110110001000000110110101110000011110100010000001101101011010100111010001110110011001110111101000100000011110100110111100100000011110010111101000100000011001110111011000100000011011010111000001111010001000000111100101111010001000000101011101101010011100000110110101100010011010100110001001101001011110100010000011100000001000000110100001100100011110010110010000100000011010110110010001100111011110100010000000100001'\n",
    "\n",
    "<div class=\"alert alert-block alert-info\">\n",
    "Nos équipes ont mis la main sur la documentation de leur logiciel de messagerie, à vous d'en comprendre le fonctionnement pour décrypter leur message.\n",
    "\n",
    "</div>"
   ]
  },
  {
   "cell_type": "markdown",
   "metadata": {},
   "source": [
    "## Principe de fonctionnement.\n",
    "\n",
    "Le texte en clair sera :\n",
    "- chiffré par Alice en utilisant le code de césar, c'est un chiffrement par décalage des lettres. Le texte chiffré s'obtient en remplaçant chaque lettre du texte clair original par une lettre à distance fixe, toujours du même côté, dans l'ordre de l'alphabet. Pour les dernières lettres (dans le cas d'un décalage à droite), on reprend au début. Par exemple avec un décalage de 3 vers la droite, A est remplacé par D, B devient E, et ainsi jusqu'à W qui devient Z, puis X devient A etc...\n",
    "- chaque caractère sera ensuite converti en binaire sur un octet (8 bits). \n",
    "\n",
    "C'est ce message binaire qui sera envoyé à Bob qui devra le décoder, Bob connaît la clé qu'Alice à utilisé pour son chiffrement.\n",
    "\n",
    "<img src=\"https://www.dropbox.com/s/kaw5tpfj14v1p9p/schema.png?dl=1\" alt=\"Schema\" title=\"Schema\" />"
   ]
  },
  {
   "cell_type": "markdown",
   "metadata": {},
   "source": [
    "## Chiffrement de césar.\n",
    "\n",
    "[Wikipédia : Chiffrement de César](https://fr.wikipedia.org/wiki/Chiffrement_par_d%C3%A9calage)\n",
    "\n",
    "Fonction `ord` :\n",
    "> Renvoie le nombre entier représentant le code Unicode du caractère représenté par la chaîne donnée. Par exemple, ord('a') renvoie le nombre entier 97 et ord('€') (symbole Euro) renvoie 8364. Il s'agit de l'inverse de chr().\n",
    "\n",
    "Fonction `chr()`\n",
    ">     Renvoie la chaîne représentant un caractère dont le code de caractère Unicode est le nombre entier i. Par exemple, chr(97) renvoie la chaîne de caractères 'a', tandis que chr(8364) renvoie '€'. Il s'agit de l'inverse de ord().\n",
    "L'intervalle valide pour cet argument est de 0 à 1114111 (0x10FFFF en base 16). Une exception ValueError sera levée si i est en dehors de l'intervalle.\n",
    "\n",
    "Les codes UTF-8 et ASCII sont identiques, ainsi pour vous aider voici un [lien vers une table ASCII](http://brianaspinall.com/wp-content/uploads/2015/11/better_ascii_table.jpg)"
   ]
  },
  {
   "cell_type": "code",
   "execution_count": 210,
   "metadata": {},
   "outputs": [],
   "source": [
    "def chiffrement_caractere(carac,cle):\n",
    "    \"\"\"\n",
    "    Chiffre un caractère par la méthode de césar , les lettres a..z et A..Z sont décalées par la méthode de césar\n",
    "    les autres caractères ne sont pas modifiés (accents, tiret ...)\n",
    "    Entrées : \n",
    "      carac (str) un caratère \n",
    "      cle (int) la clé de codage (classiquement entre 0 et 25)\n",
    "    Sortie : \n",
    "      (str) Le caratère décalé par la méthode de césar\n",
    "    \"\"\"\n",
    "    if 65<= ord(carac) <=90:\n",
    "        # Votre code ici\n",
    "    elif 97 <= ord(carac) <= 122:\n",
    "        # Votre code ici\n",
    "    else :\n",
    "        # Votre code ici\n",
    "    return # Votre code ici"
   ]
  },
  {
   "cell_type": "code",
   "execution_count": 211,
   "metadata": {},
   "outputs": [],
   "source": [
    "# Tests, si pas d'erreurs continuez.\n",
    "assert chiffrement_caractere('A',3) == 'D'\n",
    "assert chiffrement_caractere('T',5) == 'Y'\n",
    "assert chiffrement_caractere('w',7) == 'd'\n",
    "# Gestion accent ...\n",
    "assert chiffrement_caractere('é',10) == 'é'\n",
    "assert chiffrement_caractere('ç',15) == 'ç'"
   ]
  },
  {
   "cell_type": "code",
   "execution_count": 212,
   "metadata": {},
   "outputs": [],
   "source": [
    "def chiffrement_mot(mot,cle):\n",
    "    \"\"\"\n",
    "    Chiffre un mot (chaîne de caractères sans espace) par la méthode de césar \n",
    "    Entrées : \n",
    "      mot (str) \n",
    "      cle (int) la clé de codage\n",
    "    Sortie : \n",
    "      (str) Le mot décalé par la méthode de césar\n",
    "    \"\"\"\n",
    "    # Votre code ici\n",
    "    return # Votre code ici"
   ]
  },
  {
   "cell_type": "code",
   "execution_count": 213,
   "metadata": {},
   "outputs": [],
   "source": [
    "# Tests, si pas d'erreurs continuez.\n",
    "\n",
    "assert chiffrement_mot('Bonjour',7) == 'Ivuqvby'\n",
    "assert chiffrement_mot('Décodage',16) == 'Tésetqwu'\n",
    "assert chiffrement_mot('Bonjour',33) == 'Ivuqvby'\n",
    "assert chiffrement_mot('Anticonstitutionnellement',4) == 'Erxmgsrwxmxyxmsrrippiqirx'"
   ]
  },
  {
   "cell_type": "code",
   "execution_count": 214,
   "metadata": {},
   "outputs": [],
   "source": [
    "def decoupage(texte):\n",
    "    \"\"\"\n",
    "    Découpe un texte suivant ses espaces\n",
    "    Entrée  : texte (str) \n",
    "    Sortie : (lst) une liste de str constitué des mots du texte\n",
    "    \"\"\"\n",
    "    # Votre code ici\n",
    "    return # Votre code ici"
   ]
  },
  {
   "cell_type": "code",
   "execution_count": 215,
   "metadata": {},
   "outputs": [],
   "source": [
    "# Tests, si pas d'erreurs continuez.\n",
    "assert decoupage('Ceci est un test.') == ['Ceci', 'est', 'un', 'test.']\n",
    "assert decoupage(' Un texte    avec des espaces !!') == ['Un', 'texte', 'avec', 'des', 'espaces', '!!']"
   ]
  },
  {
   "cell_type": "code",
   "execution_count": 216,
   "metadata": {},
   "outputs": [],
   "source": [
    "def cesar(texte,cle):\n",
    "    \"\"\"\n",
    "    Chiffre un texte par la méthode de césar. Le texte ne commence, ni ne se termine par des espaces.\n",
    "    Entrées : \n",
    "      texte (str) \n",
    "      cle (int) la clé de codage\n",
    "    Sortie : \n",
    "      (str) Le texte décalé par la méthode de césar\n",
    "    \"\"\"\n",
    "    # Votre code ici\n",
    "    return # Votre code ici"
   ]
  },
  {
   "cell_type": "code",
   "execution_count": 217,
   "metadata": {},
   "outputs": [],
   "source": [
    "# Tests, si pas d'erreurs continuez.\n",
    "assert cesar('Bonjour',7) == 'Ivuqvby'\n",
    "assert cesar(\"WIKIPEDIA ENCYCLOPEDIE LIBRE\",9) == 'FRTRYNMRJ NWLHLUXYNMRN URKAN'\n",
    "assert cesar(\"Le texte chiffré s'obtient en remplaçant chaque lettre du texte clair original par une lettre à distance fixe.\",11) == \"Wp epiep nstqqcé d'zmetpye py cpxawlçlye nslbfp wpeecp of epiep nwltc zctrtylw alc fyp wpeecp à otdelynp qtip.\""
   ]
  },
  {
   "cell_type": "markdown",
   "metadata": {},
   "source": [
    "## Conversion en binaire\n",
    "\n",
    "Compléter les fonction de conversion entre base 2 et base 10."
   ]
  },
  {
   "cell_type": "code",
   "execution_count": 218,
   "metadata": {},
   "outputs": [],
   "source": [
    "def dec_vers_bin(nombre):\n",
    "    \"\"\"\n",
    "    Convertir un nombre entier naturel vers la base 2 sans passer par les fonctions pré-éxistantes.\n",
    "    Entrées : \n",
    "      nombre (int) : entier naturel\n",
    "    Sortie : \n",
    "      (str) Le nombre écrit en base 2\n",
    "    \"\"\"\n",
    "    # Votre code ici\n",
    "    return # Votre code ici\n"
   ]
  },
  {
   "cell_type": "code",
   "execution_count": 219,
   "metadata": {},
   "outputs": [],
   "source": [
    "from random import randint\n",
    "# Tests, si pas d'erreurs continuez.\n",
    "assert dec_vers_bin(1) == '1'\n",
    "assert dec_vers_bin(2) == '10'\n",
    "assert dec_vers_bin(1) == '1'\n",
    "assert dec_vers_bin(17) == '10001'\n",
    "# test aléatoire \n",
    "nbe = randint(3,1000)\n",
    "assert dec_vers_bin(nbe) == bin(nbe)[2:]"
   ]
  },
  {
   "cell_type": "code",
   "execution_count": 220,
   "metadata": {},
   "outputs": [],
   "source": [
    "def bin_vers_dec(binaire):\n",
    "    \"\"\"\n",
    "    Convertir un nombre binaire vers la base 10 sans passer par les fonctions pré-éxistantes.\n",
    "    Entrées : \n",
    "      binaire (str) : un nombre binaire\n",
    "    Sortie : \n",
    "      (int) Le nombre écrit en base 10\n",
    "    \"\"\"\n",
    "    # Votre code ici\n",
    "    return # Votre code ici"
   ]
  },
  {
   "cell_type": "code",
   "execution_count": 221,
   "metadata": {},
   "outputs": [],
   "source": [
    "# Tests, si pas d'erreurs continuez.\n",
    "assert ( bin_vers_dec('1111011') == 123 )\n",
    "assert ( bin_vers_dec('101111011') == int('0b101111011',2) )\n",
    "assert ( bin_vers_dec('1001101') == int('0b1001101',2) )\n",
    "# test aléatoire\n",
    "nbe = randint(30,1000)\n",
    "binaire = bin(nbe)[2:]\n",
    "assert bin_vers_dec(binaire) == nbe"
   ]
  },
  {
   "cell_type": "markdown",
   "metadata": {},
   "source": [
    "## Codage et décodage du message\n",
    "\n",
    "Rappels : \n",
    "\n",
    "<img src=\"https://www.dropbox.com/s/kaw5tpfj14v1p9p/schema.png?dl=1\" alt=\"Schema\" title=\"Schema\" />\n",
    "\n",
    "Fonction `ord` :\n",
    "> Renvoie le nombre entier représentant le code Unicode du caractère représenté par la chaîne donnée. Par exemple, ord('a') renvoie le nombre entier 97 et ord('€') (symbole Euro) renvoie 8364. Il s'agit de l'inverse de chr().\n",
    "\n",
    "Fonction `chr()`\n",
    ">     Renvoie la chaîne représentant un caractère dont le code de caractère Unicode est le nombre entier i. Par exemple, chr(97) renvoie la chaîne de caractères 'a', tandis que chr(8364) renvoie '€'. Il s'agit de l'inverse de ord().\n",
    "L'intervalle valide pour cet argument est de 0 à 1114111 (0x10FFFF en base 16). Une exception ValueError sera levée si i est en dehors de l'intervalle.\n",
    "\n",
    "**Pour chaque caractère codé par la méthode de César, on trouve son code UTF-8 puis on le converti en binaire sur 8 bits.**"
   ]
  },
  {
   "cell_type": "code",
   "execution_count": 222,
   "metadata": {},
   "outputs": [],
   "source": [
    "def codage_message(texte,cle):\n",
    "    \"\"\"\n",
    "    Chiffre un texte par la méthode de césar puis code les caractères en binaire en utilisant leur code UTF-8\n",
    "    Le texte ne commence, ni ne se termine par des espaces.\n",
    "    Entrées : \n",
    "      texte (str) \n",
    "      cle (int) la clé de codage\n",
    "    Sortie : \n",
    "      (str) Le texte codé\n",
    "    \"\"\"\n",
    "    # Votre code ici\n",
    "    return # Votre code ici\n"
   ]
  },
  {
   "cell_type": "code",
   "execution_count": 223,
   "metadata": {},
   "outputs": [],
   "source": [
    "# Tests, si pas d'erreurs continuez.\n",
    "assert codage_message('Coucou le monde',5) == '010010000111010001111010011010000111010001111010001000000111000101101010001000000111001001110100011100110110100101101010'\n",
    "assert codage_message('César',10) == '0100110111101001011000110110101101100010'"
   ]
  },
  {
   "cell_type": "code",
   "execution_count": 224,
   "metadata": {},
   "outputs": [],
   "source": [
    "def decodage_message(binaire,cle):\n",
    "    \"\"\"\n",
    "    Déchiffre un message binaire codé avec la méthode du notebook\n",
    "    Le texte ne commence, ni ne se termine par des espaces.\n",
    "    Entrées : \n",
    "      binaire (str) \n",
    "      cle (int) la clé de décodage\n",
    "    Sortie : \n",
    "      (str) Le texte décodé\n",
    "    \"\"\"\n",
    "    # Votre code ici\n",
    "    return # Votre code ici\n"
   ]
  },
  {
   "cell_type": "code",
   "execution_count": 225,
   "metadata": {},
   "outputs": [],
   "source": [
    "# Tests, si pas d'erreurs continuez.\n",
    "assert decodage_message('010010000111010001111010011010000111010001111010001000000111000101101010001000000111001001110100011100110110100101101010',5) == 'Coucou le monde'\n",
    "assert decodage_message('0100110111101001011000110110101101100010',10) == 'César'"
   ]
  },
  {
   "cell_type": "code",
   "execution_count": 226,
   "metadata": {},
   "outputs": [],
   "source": [
    "# A vous de décoder le message d'Alice, à vous d'être malin pour décoder sans connaître la clé.\n",
    "message_code = '010011010111101001101001011110010111101001110101001011010111000101101010011100000110111000100000111000000010000001100111001001110111011001101001011000100110011101111010001000000111100101111010001000000110011101110110001000000110110101110000011110100010000001101101011010100111010001110110011001110111101000100000011110100110111100100000011110010111101000100000011001110111011000100000011011010111000001111010001000000111100101111010001000000101011101101010011100000110110101100010011010100110001001101001011110100010000011100000001000000110100001100100011110010110010000100000011010110110010001100111011110100010000000100001'\n",
    "\n",
    "# Votre code ici"
   ]
  },
  {
   "cell_type": "code",
   "execution_count": null,
   "metadata": {},
   "outputs": [],
   "source": []
  }
 ],
 "metadata": {
  "kernelspec": {
   "display_name": "Python 3",
   "language": "python",
   "name": "python3"
  },
  "language_info": {
   "codemirror_mode": {
    "name": "ipython",
    "version": 3
   },
   "file_extension": ".py",
   "mimetype": "text/x-python",
   "name": "python",
   "nbconvert_exporter": "python",
   "pygments_lexer": "ipython3",
   "version": "3.8.3"
  }
 },
 "nbformat": 4,
 "nbformat_minor": 4
}
