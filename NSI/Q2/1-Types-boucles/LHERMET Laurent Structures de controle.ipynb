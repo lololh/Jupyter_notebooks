{
 "cells": [
  {
   "cell_type": "markdown",
   "metadata": {},
   "source": [
    "## Structures de contrôle\n",
    "\n",
    "### Les instructions conditionnelles\n",
    "\n",
    "Les instructions conditionnelles permettent, en fonction du résultat de l'évaluation d'une expression booléenne d'éxécuter une certaine portion de code plutôt qu'une autre.\n",
    "En python c'est le mot clé `if` qui permet de construire une instruction conditionnelle. C'est l'**indentation** (4 espaces) qui délimite l'intérieur de l'instruction conditionnelle. \n",
    "\n"
   ]
  },
  {
   "cell_type": "code",
   "execution_count": 1,
   "metadata": {},
   "outputs": [
    {
     "name": "stdout",
     "output_type": "stream",
     "text": [
      "Vous êtes trop jeune. Bonne journée\n"
     ]
    }
   ],
   "source": [
    "age = 16\n",
    "if age > 18 :\n",
    "    text = 'Vous avez le droit à la biere... '\n",
    "    text += 'Avec modération! '\n",
    "else:\n",
    "    text = 'Vous êtes trop jeune. '\n",
    "text += 'Bonne journée'\n",
    "print(text)"
   ]
  },
  {
   "cell_type": "code",
   "execution_count": 2,
   "metadata": {},
   "outputs": [
    {
     "name": "stdout",
     "output_type": "stream",
     "text": [
      "Vous avez le droit à la biere... Avec modération! Bonne journée\n"
     ]
    }
   ],
   "source": [
    "age = 20\n",
    "if age > 18 :\n",
    "    text = 'Vous avez le droit à la biere... '\n",
    "    text += 'Avec modération! '\n",
    "else:\n",
    "    text = 'Vous êtes trop jeune. '\n",
    "text += 'Bonne journée'\n",
    "print(text)"
   ]
  },
  {
   "cell_type": "markdown",
   "metadata": {},
   "source": [
    "Voici la syntaxe de base en python, **attention à ne pas oublier des `:` à la suite de la condition**\n",
    "```python\n",
    "if condition :\n",
    "    instructions_A\n",
    "instructions_B\n",
    "```\n",
    "Dans cet exemple,\n",
    "- si la condition est évaluée comme `True` les instructions_A seront exécutées puis les instructions_B seront exécutées ensuite;\n",
    "- si la condition est évaluée comme `False` les instructions_A ne seront pas exécutées, seules les instructions_B seront exécutées car en dehors de la structure conditionnelle.\n",
    "\n",
    "Une autre syntaxe est la suivante :\n",
    "```python\n",
    "if condition :\n",
    "    instructions_A\n",
    "else :\n",
    "    instructions_A'\n",
    "instructions_B\n",
    "```\n",
    "Dans cet exemple,\n",
    "- si la condition est évaluée comme `True` les instructions_A seront exécutées puis les instructions_B seront exécutées ensuite;\n",
    "- si la condition est évaluée comme `False` les instructions_A' seront exécutées, puis les instructions_B seront exécutées ensuite.\n",
    "\n",
    "Voici un exemple : on cherche à déterminer si une année `a` est [bissextile](https://fr.wikipedia.org/wiki/Ann%C3%A9e_bissextile#R%C3%A8gle_actuelle)"
   ]
  },
  {
   "cell_type": "code",
   "execution_count": 3,
   "metadata": {
    "tags": []
   },
   "outputs": [
    {
     "name": "stdout",
     "output_type": "stream",
     "text": [
      "False\n"
     ]
    }
   ],
   "source": [
    "a = 1981\n",
    "\n",
    "if a % 400 == 0: #Si l'année est divisible par 400\n",
    "    bissextile = True\n",
    "else :\n",
    "    if a % 100:\n",
    "        bissextile = False\n",
    "    else : # sinon\n",
    "        if a % 4 == 0: # Si l'année est divisible par 4\n",
    "            bissextile = True\n",
    "        else : \n",
    "            bissextile = False\n",
    "        \n",
    "print(bissextile)     "
   ]
  },
  {
   "cell_type": "markdown",
   "metadata": {},
   "source": [
    "Pour éviter trop de blocs imbriqués, on dispose du mot clé `elif` contraction de `else` et `if`. Le code précédent devient :"
   ]
  },
  {
   "cell_type": "code",
   "execution_count": 4,
   "metadata": {
    "tags": []
   },
   "outputs": [
    {
     "name": "stdout",
     "output_type": "stream",
     "text": [
      "False\n"
     ]
    }
   ],
   "source": [
    "a = 1981\n",
    "\n",
    "if a % 400 == 0: #Si l'année est divisible par 400\n",
    "    bissextile = True\n",
    "elif a % 100:\n",
    "    bissextile = False\n",
    "elif a % 4 == 0: # Si l'année est divisible par 4\n",
    "    bissextile = True\n",
    "else : \n",
    "    bissextile = False\n",
    "\n",
    "print(bissextile) "
   ]
  },
  {
   "cell_type": "markdown",
   "metadata": {},
   "source": [
    "### Boucle bornée\n",
    "\n",
    "Pour répéter plusieurs fois la même opération, on utilise une boucle bornée ou boucle `for`, voici la syntaxe en `Python` : \n",
    "\n",
    "```python\n",
    "for i in range(n):\n",
    "    instruction1\n",
    "    instruction2\n",
    "```\n",
    "\n",
    "La variable `i` prend successivement les valeurs 0,1,2 ... jusqu’à `n-1`. Pour chaque valeur de `i` les instructions 1 et 2 du corps de la boucle sont exécutées.\n",
    "\n",
    "Voici un exemple : "
   ]
  },
  {
   "cell_type": "code",
   "execution_count": 5,
   "metadata": {
    "tags": []
   },
   "outputs": [
    {
     "name": "stdout",
     "output_type": "stream",
     "text": [
      "0...\n",
      "1...\n",
      "2...\n",
      "3...\n",
      "4...\n",
      "5...\n",
      "6...\n",
      "7...\n",
      "8...\n",
      "9...\n",
      "10...\n",
      "Soleil !\n"
     ]
    }
   ],
   "source": [
    "for i in range(11):\n",
    "    print(str(i)+\"...\")\n",
    "print(\"Soleil !\")"
   ]
  },
  {
   "cell_type": "markdown",
   "metadata": {},
   "source": [
    "La fonction `range` utilisée permet de générer une séquence immuable de nombres, deux paramètres facultatifs permettent de 'jouer' sur  la séquence obtenue\n",
    "\n",
    "`range([start,] stop[, step])` : les paramètres entre crochets sont facultatifs, mais si ils sont renseignés ils changent :\n",
    "- la valeur de départ pour `start`;\n",
    "- le pas entre les entiers pour `step`.\n",
    "\n",
    "Voyez ci-dessous les différents comportements :"
   ]
  },
  {
   "cell_type": "code",
   "execution_count": 6,
   "metadata": {
    "tags": []
   },
   "outputs": [
    {
     "name": "stdout",
     "output_type": "stream",
     "text": [
      "[0, 1, 2, 3, 4, 5, 6, 7, 8, 9]\n",
      "[1, 2, 3, 4, 5, 6, 7, 8, 9, 10]\n",
      "[0, 5, 10, 15, 20, 25]\n",
      "[0, 3, 6, 9]\n",
      "[0, -1, -2, -3, -4, -5, -6, -7, -8, -9]\n",
      "[]\n",
      "[]\n"
     ]
    }
   ],
   "source": [
    "print(list(range(10)))\n",
    "\n",
    "print(list(range(1, 11)))\n",
    "\n",
    "print(list(range(0, 30, 5)))\n",
    "\n",
    "print(list(range(0, 10, 3)))\n",
    "\n",
    "print(list(range(0, -10, -1)))\n",
    "\n",
    "print(list(range(0)))\n",
    "\n",
    "print(list(range(1, 0)))"
   ]
  },
  {
   "cell_type": "code",
   "execution_count": 7,
   "metadata": {
    "tags": []
   },
   "outputs": [
    {
     "name": "stdout",
     "output_type": "stream",
     "text": [
      "10...\n",
      "9...\n",
      "8...\n",
      "7...\n",
      "6...\n",
      "5...\n",
      "4...\n",
      "3...\n",
      "2...\n",
      "1...\n",
      "0...\n",
      "Décollage !\n"
     ]
    }
   ],
   "source": [
    "# Variation autour de l'exemple précédent : \n",
    "for i in range(10,-1,-1):\n",
    "    print(\"{}...\".format(i))\n",
    "print(\"Décollage !\")"
   ]
  },
  {
   "cell_type": "markdown",
   "metadata": {},
   "source": [
    "`Python` permet aussi le parcours des séquences comme les chaines de caractères, mais aussi les listes et tuples, dictionnaires - que vous aborderez une autre fois\n",
    "\n",
    "La syntaxe est simple  : \n",
    "```python\n",
    "for caractere in chaine :\n",
    "    instructions\n",
    "```"
   ]
  },
  {
   "cell_type": "code",
   "execution_count": 8,
   "metadata": {
    "tags": []
   },
   "outputs": [
    {
     "name": "stdout",
     "output_type": "stream",
     "text": [
      "S\n",
      "a\n",
      "l\n",
      "u\n",
      "t\n",
      " \n",
      "l\n",
      "a\n",
      " \n",
      "c\n",
      "o\n",
      "m\n",
      "p\n",
      "a\n",
      "g\n",
      "n\n",
      "i\n",
      "e\n"
     ]
    }
   ],
   "source": [
    "texte = 'Salut la compagnie'\n",
    "for carac in texte :\n",
    "    print(carac)"
   ]
  },
  {
   "cell_type": "code",
   "execution_count": 9,
   "metadata": {
    "tags": []
   },
   "outputs": [
    {
     "name": "stdout",
     "output_type": "stream",
     "text": [
      "S\n",
      "a\n",
      "l\n",
      "u\n",
      "t\n",
      " \n",
      "l\n",
      "a\n",
      " \n",
      "c\n",
      "o\n",
      "m\n",
      "p\n",
      "a\n",
      "g\n",
      "n\n",
      "i\n",
      "e\n"
     ]
    }
   ],
   "source": [
    "# On aurait aussi pu procéder avec la première syntaxe :\n",
    "texte = 'Salut la compagnie'\n",
    "for i in range(len(texte)):\n",
    "    print(texte[i])"
   ]
  },
  {
   "cell_type": "code",
   "execution_count": 10,
   "metadata": {
    "tags": []
   },
   "outputs": [
    {
     "name": "stdout",
     "output_type": "stream",
     "text": [
      "S\n",
      "l\n",
      "t\n",
      "l\n",
      " \n",
      "o\n",
      "p\n",
      "g\n",
      "i\n"
     ]
    }
   ],
   "source": [
    "# La syntaxe avec range permet de controler finement le parcours, par exemple avancer de 2 caractères...\n",
    "texte = 'Salut la compagnie'\n",
    "for i in range(0,len(texte),2):\n",
    "    print(texte[i])"
   ]
  },
  {
   "cell_type": "markdown",
   "metadata": {},
   "source": [
    "## Boucles non bornées :\n",
    "\n",
    "Lorsque l’on veut répéter une suite d’instructions sans savoir combien de tours de boucle il faut effectuer, alors il faudra utiliser une boucle non bornée. C’est la boucle `while` (tant que en Français !).\n",
    "\n",
    "Voici la syntaxe en Python : \n",
    "\n",
    "```python\n",
    "while expression :\n",
    "    instruction1\n",
    "    instruction2\n",
    "```\n",
    "\n",
    "Mais, que se passe-t-il dans cette boucle ?\n",
    "1. l’expression est évaluée;\n",
    "2. Si elle est vraie (True), alors les instruction du corps de la boucle sont exécutées, on retourne à l’étape 1;\n",
    "3. Si elle est fausse (False), alors on ’sort’ de la boucle et on poursuit l’exécution des instructions qui suivent la boucle.\n",
    "\n",
    "⚡ aux boucles infinies, si votre condition est toujours vraie, cela conduira à un programme qui ne s'arrêtera pas.\n",
    "```python\n",
    "while True :\n",
    "    print(\"Coucou !\")\n",
    "```\n",
    "\n",
    "La construction d’une boucle comporte 3 éléments :\n",
    "1. l’initialisation avant la boucle\n",
    "2. un test (expression) qui permet de savoir quand la boucle s’arrête\n",
    "3. une instruction qui change une variable du test à chaque tours de boucle.\n",
    "\n",
    "Léo veut placer un certain montant en Euros à 5 % (c’est à dire que son capital augmente de 5 % tous les ans , c’est énorme!)\n",
    "Il veut savoir au bout de combien d’année son capital dépassera les 500 €"
   ]
  },
  {
   "cell_type": "code",
   "execution_count": 11,
   "metadata": {
    "tags": []
   },
   "outputs": [
    {
     "name": "stdout",
     "output_type": "stream",
     "text": [
      "30\n"
     ]
    }
   ],
   "source": [
    "capital_depart = 120 # 1. Initialisation\n",
    "annee = 0 # 1. Initialisation\n",
    "capital_en_cours = capital_depart # 1. Initialisation\n",
    "while capital_en_cours < 500: # 2. Test\n",
    "    # Sortie de boucle quand ( capital_en_cours >= 500)\n",
    "    capital_en_cours = capital_en_cours * 1.05\n",
    "    annee += 1 # 3. Modifications de variables de test\n",
    "print(annee) # L'affichage a lieu lorsque le test est faux"
   ]
  },
  {
   "cell_type": "markdown",
   "metadata": {},
   "source": [
    "### Exercices d'application"
   ]
  },
  {
   "cell_type": "markdown",
   "metadata": {},
   "source": [
    "### Exercice 10\n",
    "En vous inspirant du script précédent, écrire un script qui donne la plus petite valeur $n$ telle que $4^2+5^2+6^2+...+n^2$ dépasse 12345."
   ]
  },
  {
   "cell_type": "code",
   "execution_count": 12,
   "metadata": {},
   "outputs": [
    {
     "name": "stdout",
     "output_type": "stream",
     "text": [
      "34\n"
     ]
    }
   ],
   "source": [
    "# Votre réponse ici.\n",
    "somme_carrés=0 #initialisation\n",
    "n=4 #initialisation de la variable n à4\n",
    "while somme_carrés<12345: #Test\n",
    "    #sortie de boucle quand (somme_carrés>12345)\n",
    "    somme_carrés = somme_carrés + n**2\n",
    "    n+=1\n",
    "print (n)\n",
    "\n",
    "# a verifier car reponse devrait etre 33 . Vu le 9/10/20 en visio\n"
   ]
  },
  {
   "cell_type": "markdown",
   "metadata": {},
   "source": [
    "### Exercice 11\n",
    "On imagine une puce qui se déplace aléatoirement sur une ligne, en avant ou en arrière, par pas de 1 ou -1. Par exemple, si elle est à l’emplacement 0, elle peut sauter à l’emplacement 1 ou -1 ; si elle est à l’emplacement 2, elle peut sauter à l’emplacement 3 ou 1, etc.  Simuler le mouvement de cette puce de l’emplacement initial 0 à l’emplacement final 5. Combien de sauts sont nécessaires pour réaliser ce parcours ? Relancez plusieurs fois le programme. Trouvez-vous le même nombre de sauts à chaque exécution ? Est-il possible de tomber sur une boucle infinie ?\n",
    "\n",
    "Conseil : vous utiliserez l’instruction `random.choice([-1,1])` qui renvoie au hasard les valeurs -1 ou 1 avec la même probabilité. Avant d’utiliser cette instruction vous mettrez au tout début de votre script la ligne `import random`"
   ]
  },
  {
   "cell_type": "code",
   "execution_count": 14,
   "metadata": {},
   "outputs": [
    {
     "ename": "SyntaxError",
     "evalue": "invalid syntax (<ipython-input-14-e8d0723de39e>, line 10)",
     "output_type": "error",
     "traceback": [
      "\u001b[1;36m  File \u001b[1;32m\"<ipython-input-14-e8d0723de39e>\"\u001b[1;36m, line \u001b[1;32m10\u001b[0m\n\u001b[1;33m    print(\"On a effectué {0} saut\"texte.format(nb_saut))\u001b[0m\n\u001b[1;37m                                  ^\u001b[0m\n\u001b[1;31mSyntaxError\u001b[0m\u001b[1;31m:\u001b[0m invalid syntax\n"
     ]
    }
   ],
   "source": [
    "import random   \n",
    "position = 0 #initialisation sur la case initiale\n",
    "nb_saut=0\n",
    "while position!=5:\n",
    "    saut = random.choice([-1,1]) #Saut aléatoire de +1 ou -1\n",
    "    print (saut)\n",
    "    nb_saut+=1 #incrémentation du nombre de saut\n",
    "    position = position + saut\n",
    "    print(position) #afficher position pour debuggage\n",
    "print(\"On a effectué {0} saut\"texte.format(nb_saut))\n",
    "\n"
   ]
  },
  {
   "cell_type": "markdown",
   "metadata": {},
   "source": [
    "### Exercice 12\n",
    "Créez deux script qui dessinent les triangles comme ci-dessous :  \n",
    "Script 1 \n",
    "```\n",
    "*\n",
    "**\n",
    "***\n",
    "****\n",
    "*****\n",
    "******\n",
    "*******\n",
    "********\n",
    "```\n",
    "\n",
    "Script 2\n",
    "```\n",
    "********\n",
    "*******\n",
    "******\n",
    "*****\n",
    "****\n",
    "***\n",
    "**\n",
    "*\n",
    "```"
   ]
  },
  {
   "cell_type": "code",
   "execution_count": 24,
   "metadata": {},
   "outputs": [
    {
     "name": "stdout",
     "output_type": "stream",
     "text": [
      "\n",
      "*\n",
      "**\n",
      "***\n",
      "****\n",
      "*****\n",
      "******\n",
      "*******\n",
      "********\n",
      "\n",
      "********\n",
      "*******\n",
      "******\n",
      "*****\n",
      "****\n",
      "***\n",
      "**\n",
      "*\n"
     ]
    }
   ],
   "source": [
    "# Votre réponse ici.\n",
    "def script1():\n",
    "    for i in range(9):\n",
    "        print('*'*i)\n",
    "    \n",
    "def script2():\n",
    "    for j in range(8,0,-1):\n",
    "        print('*'*j)\n",
    "        \n",
    "script1()\n",
    "print('')\n",
    "script2()"
   ]
  },
  {
   "cell_type": "markdown",
   "metadata": {},
   "source": [
    "### Exercice 13 \n",
    "\n",
    "Voici un circuit combinatoire\n",
    "\n",
    "<img src=\"https://www.dropbox.com/s/1ui52agi38uinka/ex_circuit_combinatoire.png?dl=1\" alt=\"Circuit combinatoire\" title=\"Un circuit combinatoire\" />\n",
    "\n",
    "Compléter, ci après, les définitions des variables `S` et `Cout` aux deux endroits indiqués.  \n",
    "Puis indiquez à quoi peut servir ce circuit.\n",
    "\n",
    "**Votre réponse ici**\n",
    "S = (a xor b) xor Cin\n",
    "Cout = (a and b) or (Cin and (a xor b)\n",
    "\n",
    "Cin permet le choix de la fonction xor ou not xor entre a et b pour la variable S et entre la fonction ET ou OU pour Cout"
   ]
  },
  {
   "cell_type": "code",
   "execution_count": 26,
   "metadata": {},
   "outputs": [
    {
     "name": "stdout",
     "output_type": "stream",
     "text": [
      "a : 0,   b : 0,   Cin : 0,   S : 0,   Cout : 0\n",
      "a : 0,   b : 0,   Cin : 1,   S : 1,   Cout : 0\n",
      "a : 0,   b : 1,   Cin : 0,   S : 1,   Cout : 0\n",
      "a : 0,   b : 1,   Cin : 1,   S : 0,   Cout : 1\n",
      "a : 1,   b : 0,   Cin : 0,   S : 1,   Cout : 0\n",
      "a : 1,   b : 0,   Cin : 1,   S : 0,   Cout : 1\n",
      "a : 1,   b : 1,   Cin : 0,   S : 0,   Cout : 1\n",
      "a : 1,   b : 1,   Cin : 1,   S : 1,   Cout : 1\n"
     ]
    }
   ],
   "source": [
    "# Votre réponse ici\n",
    "a , b , Cin = True , True , True\n",
    "\n",
    "S = 0\n",
    "Cout = 0 \n",
    "\n",
    "# Affichage, recopiez vos formules après les for\n",
    "for a in [0,1]:\n",
    "    for b in [0,1]:\n",
    "        for Cin in [0,1]:\n",
    "            S = (a ^ b) ^ Cin\n",
    "            Cout = (a and b)or (Cin and (a ^ b))\n",
    "            print('a : {},   b : {},   Cin : {},   S : {},   Cout : {}'.format(a,b,Cin,S,Cout))\n"
   ]
  },
  {
   "cell_type": "markdown",
   "metadata": {},
   "source": [
    "**Note**\n",
    "D'autres utilisations des structures de contrôle (if, for et while) seront vues dans le prochaine notebook."
   ]
  }
 ],
 "metadata": {
  "kernelspec": {
   "display_name": "Python 3",
   "language": "python",
   "name": "python3"
  },
  "language_info": {
   "codemirror_mode": {
    "name": "ipython",
    "version": 3
   },
   "file_extension": ".py",
   "mimetype": "text/x-python",
   "name": "python",
   "nbconvert_exporter": "python",
   "pygments_lexer": "ipython3",
   "version": "3.8.3"
  }
 },
 "nbformat": 4,
 "nbformat_minor": 4
}
