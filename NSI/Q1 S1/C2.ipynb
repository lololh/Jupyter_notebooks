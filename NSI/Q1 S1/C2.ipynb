{
 "cells": [
  {
   "cell_type": "markdown",
   "metadata": {},
   "source": [
    "# <center>La représentation des entiers relatifs </center>"
   ]
  },
  {
   "cell_type": "markdown",
   "metadata": {},
   "source": [
    "## 1. Première idée."
   ]
  },
  {
   "cell_type": "markdown",
   "metadata": {},
   "source": [
    "Pour représenter les entiers relatifs en base 2, on s'appuie sur celle des entiers naturels vue précédemment. Une première intuition est de rajouter un bit pour le signe  et d'utiliser les autres pour représenter sa valeur absolue.\n",
    "\n",
    "Remarques : La valeur absolue d'un nombre est :\n",
    " * Ce nombre s'il est positif\n",
    " * Son opposé s'il est négatif\n",
    " * Par exemple, la valeur absolue de $-4$ est $4$, la valeur absolue de $4$ est $4$. "
   ]
  },
  {
   "cell_type": "markdown",
   "metadata": {},
   "source": [
    "#### Exercice\n",
    "Avec des mots de 4 bits, on réserve le bit de poids fort (le plus à gauche) pour le signe. Il en reste donc 3 pour la valeur absolue. Compléter la liste  ci-dessous :"
   ]
  },
  {
   "cell_type": "markdown",
   "metadata": {},
   "source": [
    "  \n",
    "  \n",
    "  `0000`: 0\n",
    "  \n",
    "  `0001`: 1\n",
    "  \n",
    "  `0010`: 2\n",
    "  \n",
    "  `0011`: 3\n",
    "  \n",
    "  `0100`: 4\n",
    "  \n",
    "  `0101`: 5\n",
    "  \n",
    "  `0110`: 6\n",
    "  \n",
    "  `0111`: 7\n",
    "  \n",
    "  `1000`: 8\n",
    "  \n",
    "  `1001`: -1\n",
    "  \n",
    "  `1010`: -2\n",
    "  \n",
    "  `1011`: -3\n",
    "  \n",
    "  `1100`: -4\n",
    "  \n",
    "  `1101`: -5\n",
    "  \n",
    "  `1110`: -6\n",
    "  \n",
    "  `1111`: -7\n",
    "\n",
    "  "
   ]
  },
  {
   "cell_type": "markdown",
   "metadata": {},
   "source": [
    "### Inconvénient"
   ]
  },
  {
   "cell_type": "markdown",
   "metadata": {},
   "source": [
    "Il y a 2 représentations du nombre 0, ce qui pose des problèmes dans les calculs et d'utilisation de mémoire. Ce n'est donc pas la représentation qui est usuellement utilsée."
   ]
  },
  {
   "cell_type": "markdown",
   "metadata": {},
   "source": [
    "## 2. Le complément à 2 (C2)."
   ]
  },
  {
   "cell_type": "markdown",
   "metadata": {},
   "source": [
    "### Principes sur 4 bits"
   ]
  },
  {
   "cell_type": "markdown",
   "metadata": {},
   "source": [
    "\n",
    "|Entier naturel        |$0$|$1$|$2$|$3$|$4$|$5$|$6$|$7$|$8$|$9$|$10$|$11$|$12$|$13$|$14$|$15$|\n",
    "|:-------------------- |:-:|:-:|:-:|:-:|:-:|:-:|:-:|:-:|:-:|:-:|:--:|:--:|:--:|:--:|:--:|:--:|\n",
    "|Etat|`0000`|`0001`|`0010`|`0011`|`0100`|`0101`|`0110`|`0111`|`1000`|`1001`|`1010`|`1011`|`1100`|`1101`|`1110`|`1111`|\n",
    "|Entier relatif        |$0$|$1$|$2$|$3$|$4$|$5$|$6$ |$7$|$-8$|$-7$|$-6$|$-5$|$-4$|$-3$|$-2$|$-1$|\n"
   ]
  },
  {
   "cell_type": "markdown",
   "metadata": {},
   "source": [
    "#### Exercice :"
   ]
  },
  {
   "cell_type": "markdown",
   "metadata": {},
   "source": [
    "A partir de l'observation de ce tableau, compléter les remarques ci-dessous (double-cliquez sur les \"`__`\") :"
   ]
  },
  {
   "cell_type": "markdown",
   "metadata": {},
   "source": [
    "# Remarques :\n",
    "\n",
    "* Le bit de poids fort(premier à gauche) est le signe : `0` pour un nombre positif et `1` pour un nombre négatif.\n",
    "* On représente les entiers relatifs...avec des entiers naturels ! Avec`8` bits, on obtient $2^{N}$ états pour représenter les entiers de`-128` à`+127` .\n",
    "* `0000`: C'est le nombre `0`\n",
    "\n",
    "* `1111`: C'est le nombre $-1$\n",
    "\n",
    "* `1000`: C'est le nombre `-8`\n",
    "\n",
    "* La représentation de $-6$ en C2 est la même que celle de l'entier positif `10`\n",
    "\n",
    "* La représentation de $-8$ en C2 est la même que celle de l'entier positif `8`\n",
    "\n",
    "* La représentation de $6$ en C2 est la même que celle de `6` .\n",
    "\n"
   ]
  },
  {
   "cell_type": "markdown",
   "metadata": {},
   "source": [
    "### Sur 8 bits"
   ]
  },
  {
   "cell_type": "markdown",
   "metadata": {},
   "source": [
    "Les principes restent les mêmes mais on peut représenter plus de valeurs. 8 bits, c'est $2^{8}=256$ états possibles avec lesquels on représente :\n",
    " * Les entiers relatifs positifs de $0$ à $127$\n",
    " * Les entiers relatifs négatifs de $-128$ à $-1$\n",
    " * Les entiers relatif positifs sont représentés comme les entiers naturels.\n",
    " * Un entier relatif $x$ strictement négatif est représenté par l'entier naturel $x+2^{8}$"
   ]
  },
  {
   "cell_type": "markdown",
   "metadata": {},
   "source": [
    "#### Exercice \n",
    "Complétez les phrases ci-dessous :"
   ]
  },
  {
   "cell_type": "markdown",
   "metadata": {},
   "source": [
    "\n",
    "  La représentation de `0` est 00000000\n",
    "  \n",
    "  La représentation de `-1` est 10000000\n",
    "  \n",
    "  La représentation de `127` est 10000001\n",
    "  \n",
    "  La représentation de `-128` est 10000000\n",
    "  \n",
    "  La représentation de l'entier relatif -42 est la même que celle de l'entier naturel 42+$2^8$=298\n",
    "  \n",
    "  \n",
    "  La représentation de l'entier relatif 42 est la même que celle de l'entier naturel 42"
   ]
  },
  {
   "cell_type": "markdown",
   "metadata": {},
   "source": [
    "### Synthèse"
   ]
  },
  {
   "cell_type": "markdown",
   "metadata": {},
   "source": [
    "En utilisant cette représentation dite du complément à deux (two's complement) sur $n$ bits, on dispose de $2^{n}$ états possibles, avec lesquels on représente :\n",
    "* Les entiers positifs de $0$ à $2^{n-1}-1$ \n",
    "* Les entiers négatifs de $-2^{n-1}$ à $-1$\n",
    "* Les entiers relatifs positifs sont représentés comme les entiers naturels.\n",
    "* Un entier relatif $x$ strictement négatif est représenté par l'entier naturel $x+2^{n}$"
   ]
  },
  {
   "cell_type": "markdown",
   "metadata": {},
   "source": [
    "Remarques :\n",
    "\n",
    "* La notation dépend du nombre de bits que l'on utilise\n",
    "* Il n'y a qu'un seul zéro\n",
    "* Cette représentation permet les opérations usuelles (multiplication, addition)\n",
    "* La même suite de bits peut représenter un entier naturel ou un entier relatif. Le système doit donc savoir s'il travaille avec des entiers non signés ou des entiers signés.\n"
   ]
  },
  {
   "cell_type": "markdown",
   "metadata": {},
   "source": [
    "### Exercices : \n",
    "1. Quelle est la représentation de l'entier $-42$ sur $8$ bits ?\n",
    "2. Quels entiers relatifs peut-on représenter avec $16$ bits?\n",
    "3. Quels entiers relatifs peut-on représenter avec $32$ bits?\n"
   ]
  },
  {
   "cell_type": "markdown",
   "metadata": {},
   "source": [
    "Réponses :\n",
    "1. 11010101\n",
    "\n",
    "2. De -65537 a 65535 \n",
    "\n",
    "3. De -4 294 967 297 a 4 294 967 295\n"
   ]
  },
  {
   "cell_type": "markdown",
   "metadata": {},
   "source": [
    "## 3.  Méthodes de conversion"
   ]
  },
  {
   "cell_type": "markdown",
   "metadata": {},
   "source": [
    "### Trouver la représentation binaire sur $n$ bits d'un entier relatif."
   ]
  },
  {
   "cell_type": "markdown",
   "metadata": {},
   "source": [
    "On a vu que :\n",
    "\n",
    "   * Si l'entier relatif $x$ est positif ou nul, on le représente comme l'entier naturel $x$.\n",
    "   * S'il est strictement négatif, on le représente comme l'entier naturel $x+2^{n}$."
   ]
  },
  {
   "cell_type": "markdown",
   "metadata": {},
   "source": [
    "#### Exercice :\n",
    "Trouver la représentation binaire sur 8 bits des entiers relatifs $127$ et $-127$"
   ]
  },
  {
   "cell_type": "markdown",
   "metadata": {},
   "source": [
    "Réponses :  \n",
    "* 127 = 0b0111111\n",
    "* -127 = 0b10000001"
   ]
  },
  {
   "cell_type": "markdown",
   "metadata": {},
   "source": [
    "### Trouver l'entier relatif donné en écriture binaire sur $n$ bits"
   ]
  },
  {
   "cell_type": "markdown",
   "metadata": {},
   "source": [
    "On commence par trouver l'entier naturel $N$  qui correspond à l'écriture binaire donnée:\n",
    " * Si l'écriture commence par `0`, la réponse est $N$\n",
    " * Si l'écriture commence par `1`, la réponse est $N-2^{n}$"
   ]
  },
  {
   "cell_type": "markdown",
   "metadata": {},
   "source": [
    "#### Exercice :\n",
    "Trouver les entiers relatifs représentés sur $8$ bits par :\n",
    "* `01010101`\n",
    "* `10101010`"
   ]
  },
  {
   "cell_type": "markdown",
   "metadata": {},
   "source": [
    "Réponses :\n",
    "* 85\n",
    "* 170 -$2^8$= -86\n"
   ]
  },
  {
   "cell_type": "markdown",
   "metadata": {},
   "source": [
    "### Une autre méthode"
   ]
  },
  {
   "cell_type": "markdown",
   "metadata": {},
   "source": [
    "Pour représenter par exemple $-12$ sur $8$ bits :\n",
    "\n",
    "   * On détermine la représentation de $12$ en binaire sur $8$ bits : `00001100`\n",
    "   * On inverse les bits (ce qui donne la représentation de $255-12=243$ et qui correspond à l'entier relatif $243-256=-13$ : `11110011`\n",
    "   * On ajoute donc 1, c'est à dire `1` : `11110100`"
   ]
  },
  {
   "cell_type": "markdown",
   "metadata": {},
   "source": [
    "#### Exercice :\n",
    "Avec cette méthode,déterminer la représentation sur 8 bits de l'entier $-4$"
   ]
  },
  {
   "cell_type": "markdown",
   "metadata": {},
   "source": [
    "Réponse :\n",
    " * La détermination de la représentation de 4 sur 8 bits : 00000100\n",
    " * Inversion des bits : 11111011 qui correspond à  255-4 = 251 et qui correspond à l'entier relatif 251 - 256 = -5 \n",
    " * On ajoute 1 : 11111100"
   ]
  },
  {
   "cell_type": "markdown",
   "metadata": {},
   "source": [
    "## 4. Exercices"
   ]
  },
  {
   "cell_type": "markdown",
   "metadata": {},
   "source": [
    "On pourra vérifier avec la fonction `bin()` certains des résultats des exercices. Attention, il faut tenir compte du nombre de bits avec lequel on travaille."
   ]
  },
  {
   "cell_type": "code",
   "execution_count": 1,
   "metadata": {},
   "outputs": [
    {
     "name": "stdout",
     "output_type": "stream",
     "text": [
      "0b101010\n",
      "0b11010110\n"
     ]
    }
   ],
   "source": [
    "print(bin(42)) # renvoie la représentation binaire de l'entier naturel 42, mais sur 6 bits\n",
    "print(bin(-42+2**8)) # renvoie la représentation binaire de l'entier relatif -42 sur 8 bits"
   ]
  },
  {
   "cell_type": "markdown",
   "metadata": {},
   "source": [
    "### Ex 1 :\n",
    "Par la méthode de votre choix, calculer la représentation binaire sur $8$ bits de l'entier relatif $16$, puis de son opposé."
   ]
  },
  {
   "cell_type": "markdown",
   "metadata": {},
   "source": [
    "Réponses :  \n",
    "* 16 = 00010000\n",
    "* -16 => inversion 11101111 puis ajout de 1 = 11110000\n"
   ]
  },
  {
   "cell_type": "markdown",
   "metadata": {},
   "source": [
    "### Ex 2 :\n",
    "1. Quels sont les entiers relatifs que l'on peut représenter avec $3$ bits ?\n",
    "2. Ecrire la représentation binaire de chacun de ces nombres."
   ]
  },
  {
   "cell_type": "markdown",
   "metadata": {},
   "source": [
    "Réponses : \n",
    " 1. De -9 à +7\n",
    " 2. \n",
    "    * 0 : 000\n",
    "    * 1 : 001\n",
    "    * 2 : 010\n",
    "    * 3 : 011\n",
    "    * -4 : 100\n",
    "    * -3 : 101\n",
    "    * -2 : 110\n",
    "    * -1 : 111\n",
    "    "
   ]
  },
  {
   "cell_type": "markdown",
   "metadata": {},
   "source": [
    "### Ex 3 :\n",
    " 1. Quelle est la représentation de l'entier $3$ sur  :\n",
    "  * $3$ bits ? \n",
    "  * $4$ bits ? \n",
    "  * $8$ bits ? \n",
    "  * $16$ bits ? \n",
    " 2. Quelle est la représentation de l'entier $-3$ sur  :\n",
    "  * $3$ bits ? \n",
    "  * $4$ bits ? \n",
    "  * $8$ bits ? \n",
    "  * $16$ bits ? \n",
    "  \n",
    " 3. Que remarque-t-on ? \n"
   ]
  },
  {
   "cell_type": "markdown",
   "metadata": {},
   "source": [
    "Réponses :\n",
    "1. \n",
    "   * sur 3 bits : 011\n",
    "   * sur 4 bits :0011\n",
    "   * sur 8 bits : 0000 0011\n",
    "   * sur 16 bits : 0000 0000 0000 0011\n",
    "\n",
    "\n",
    "2. \n",
    "   * sur 3 bits : 101\n",
    "   * sur 4 bits : même représentation que -3+ $2^4$ = -3 + 16 = 13 = 1101\n",
    "   * sur 8 bits : -3 + 256 = 253 soit 1111 1101\n",
    "   * sur 16 bits :1111 1111 1111 1101\n",
    " \n",
    " \n",
    "3. On complète avec des 1\n",
    "  \n",
    " "
   ]
  },
  {
   "cell_type": "markdown",
   "metadata": {},
   "source": [
    "### Ex 4 :\n",
    "Dans chaque cas, quel entier relatif est représenté, et sur combien de bits ?\n",
    " * `10`\n",
    " * `1000`\n",
    " * `10000000`\n",
    " * `1000000000000000` "
   ]
  },
  {
   "cell_type": "markdown",
   "metadata": {},
   "source": [
    "Réponses :\n",
    "\n",
    " * `10` : Sur 2 bits . Nombre négatif valant $N-2^n$ soit ici 2 - 4 = -2\n",
    " * `1000` : Sur 4 bits. Nombre négatif valant 8 - 16 = - 8\n",
    " * `10000000` : Sur 8 bits. Nombre négatif valant 128 - 256 = -128\n",
    " * `1000000000000000` : Sur 16 bits. Nombre négatif valant 0111 1111 1111 1111 + 1 = 1000 0000 0000 0000 = - 32768\n",
    " \n",
    " "
   ]
  },
  {
   "cell_type": "markdown",
   "metadata": {},
   "source": [
    "### Ex5 :\n",
    "<img style=\"float: center;\" src=\"binarygreen.jpg\"  width = 800>\n",
    "\n",
    " 1. Quel entier naturel est représenté par cette suite ?\n",
    " 2. Quel entier relatif est représenté par cette suite ?"
   ]
  },
  {
   "cell_type": "markdown",
   "metadata": {},
   "source": [
    "Réponses :\n",
    " 1. 1000010100101010101110101011 \n",
    " Entier naturel donc positif : **9 635 627**\n",
    " 2. Pour entier relatif, on voit que c'est un nb négatif. On applique le complément à 2\n",
    " 0111 1010 1101 0101 0100 0101 0100 + 1 \n",
    " soit 0111 1010 1101 0101 0100 0101 0101 soit **128 799 829**"
   ]
  },
  {
   "cell_type": "markdown",
   "metadata": {},
   "source": [
    "## Ex6 : \n",
    "Pré-requis programmation  : fonction et chaînes de caractères.\n",
    "\n",
    "Avec python : A l'aide de la fonction `bin()`, compléter la fonction `C2(N,n)`  qui prend en paramètres un entier relatif $N$ et qui renvoie la représentation binaire de cet entier sur $n$ bits sous forme de chaîne de caractères\n",
    "Exemples :\n",
    " * `C2(-3,8)` devra renvoyer `'11111101'`\n",
    " * `C2(3,8)` devra renvoyer `'00000011'`\n",
    " * `C2(3,4)` devra renvoyer `'0011'`\n",
    " * `C2(-3,4)` devra renvoyer `'1101'`"
   ]
  },
  {
   "cell_type": "code",
   "execution_count": 37,
   "metadata": {},
   "outputs": [
    {
     "name": "stdout",
     "output_type": "stream",
     "text": [
      "11111101\n",
      "00000011\n",
      "0011\n",
      "1101\n",
      "11111111111111111111111111111010\n",
      "00000000000000000000000000000110\n"
     ]
    }
   ],
   "source": [
    "def C2(N,n):\n",
    "    binaire = ''\n",
    "    if N >= 0 :\n",
    "        binaire = (bin(N)[2:].zfill(n))\n",
    "    else :\n",
    "        binaire = (bin(N+2**n)[2:])\n",
    "            \n",
    "    return binaire\n",
    "\n",
    "print(C2(-3,8))\n",
    "print(C2(3,8))\n",
    "print(C2(3,4))\n",
    "print(C2(-3,4))\n",
    "print(C2(-6,32))\n",
    "print(C2(6,32))"
   ]
  },
  {
   "cell_type": "markdown",
   "metadata": {},
   "source": [
    "# <center>FIN</center>"
   ]
  },
  {
   "cell_type": "markdown",
   "metadata": {},
   "source": [
    "<a href=\"https://xkcd.com/571/\"><img src=\"https://imgs.xkcd.com/comics/cant_sleep.png\" width = 500></a>"
   ]
  }
 ],
 "metadata": {
  "kernelspec": {
   "display_name": "Python 3",
   "language": "python",
   "name": "python3"
  },
  "language_info": {
   "codemirror_mode": {
    "name": "ipython",
    "version": 3
   },
   "file_extension": ".py",
   "mimetype": "text/x-python",
   "name": "python",
   "nbconvert_exporter": "python",
   "pygments_lexer": "ipython3",
   "version": "3.8.3"
  }
 },
 "nbformat": 4,
 "nbformat_minor": 2
}
