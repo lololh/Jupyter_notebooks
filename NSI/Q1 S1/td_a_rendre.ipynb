{
 "cells": [
  {
   "cell_type": "markdown",
   "metadata": {},
   "source": [
    "# Programmation autour du codage des nombres \n",
    "\n",
    "\n",
    "\n",
    "Ce T.D. a pour but d'obtenir à partir d'un nombre écrit en décimal: \n",
    "\n",
    "* Son écriture en binaire : **fonction binaire**\n",
    "* Son écriture en binaire sur 8 bits : **fonction octet**\n",
    "* Son écriture avec la méthode du complément à 2. On se contentera alors des entiers entre -127 et 127 : **fonction complement_a_deux**\n",
    "\n",
    "Le résultat sera obtenu sous forme de chaîne de caractère."
   ]
  },
  {
   "cell_type": "code",
   "execution_count": 34,
   "metadata": {},
   "outputs": [],
   "source": [
    "def binaire(n):\n",
    "    resultat = \"{:b}\".format(n)\n",
    "   # print(resultat)\n",
    "    return(resultat)\n",
    "    #Solution plus courte sans passer par une variable resultat\n",
    "   # return \"{:b}\".format(n) \n",
    "    \n",
    "assert(binaire(18) == '10010')"
   ]
  },
  {
   "cell_type": "code",
   "execution_count": 35,
   "metadata": {},
   "outputs": [],
   "source": [
    "def octet(n):\n",
    "    return \"{0:{fill}8b}\".format(n,fill ='0')\n",
    "\n",
    "assert(octet(18) == '00010010')"
   ]
  },
  {
   "cell_type": "code",
   "execution_count": 36,
   "metadata": {},
   "outputs": [
    {
     "name": "stdout",
     "output_type": "stream",
     "text": [
      "11101110\n"
     ]
    }
   ],
   "source": [
    "def complement_a_deux(n):\n",
    "    if n>127 or n<-127 :\n",
    "        print (\"erreur de saisie\")\n",
    "    else:\n",
    "        if n>=0:\n",
    "            a=octet(n)\n",
    "            print(a)\n",
    "            return (a)\n",
    "        else :\n",
    "            a=octet(n+2**8)\n",
    "            print (a)\n",
    "            return (a)            \n",
    "    \n",
    "#assert(complement_a_deux(-547) == \"erreur de saisie\")\n",
    "assert(complement_a_deux(-18) == '11101110')"
   ]
  },
  {
   "cell_type": "code",
   "execution_count": null,
   "metadata": {},
   "outputs": [],
   "source": []
  }
 ],
 "metadata": {
  "kernelspec": {
   "display_name": "Python 3",
   "language": "python",
   "name": "python3"
  },
  "language_info": {
   "codemirror_mode": {
    "name": "ipython",
    "version": 3
   },
   "file_extension": ".py",
   "mimetype": "text/x-python",
   "name": "python",
   "nbconvert_exporter": "python",
   "pygments_lexer": "ipython3",
   "version": "3.8.3"
  }
 },
 "nbformat": 4,
 "nbformat_minor": 2
}
