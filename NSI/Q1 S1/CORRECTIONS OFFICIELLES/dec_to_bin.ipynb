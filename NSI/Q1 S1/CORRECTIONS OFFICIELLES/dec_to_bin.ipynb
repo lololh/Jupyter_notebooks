{
 "cells": [
  {
   "cell_type": "markdown",
   "metadata": {},
   "source": [
    "# Programmation autour du codage des nombres \n",
    "\n",
    "\n",
    "\n",
    "Ce T.D. a pour but d'obtenir à partir d'un nombre écrit en décimal: \n",
    "\n",
    "* Son écriture en binaire : **fonction binaire**\n",
    "* Son écriture en binaire sur 8 bits : **fonction octet**\n",
    "* Son écriture avec la méthode du complément à 2. On se contentera alors des entiers entre -127 et 127 : **fonction complement_a_deux**\n",
    "\n",
    "Le résultat sera obtenu sous forme de chaîne de caractère."
   ]
  },
  {
   "cell_type": "code",
   "execution_count": 1,
   "metadata": {},
   "outputs": [],
   "source": [
    "def binaire(n):\n",
    "    \"\"\" Cette fonction transforme l'écriture décimale d'un nombre entier en son écriture binaire\n",
    "    Entrée: le nombre en décimal\n",
    "    Sortie : Le nombre en binaire sous forme de chaîne de caractères\n",
    "    \"\"\"\n",
    "    chaine = ''\n",
    "    while n != 0:\n",
    "        chaine = str(n % 2)+chaine\n",
    "        n = n//2\n",
    "    return chaine\n",
    "assert(binaire(18) == '10010')"
   ]
  },
  {
   "cell_type": "code",
   "execution_count": 4,
   "metadata": {},
   "outputs": [],
   "source": [
    "def octet(n):\n",
    "    \"\"\" Cette fonction transforme l'écriture décimale d'un nombre entier en son écriture binaire\n",
    "    sur un octet\n",
    "    Entrée: le nombre en décimal\n",
    "    Sortie : Le nombre en binaire sous forme de chaîne de caractères\n",
    "    \"\"\"\n",
    "    chaine = binaire(n)\n",
    "    while len(chaine) != 8:\n",
    "        chaine = '0'+chaine\n",
    "    return chaine\n",
    "assert(octet(18) == '00010010')"
   ]
  },
  {
   "cell_type": "code",
   "execution_count": 5,
   "metadata": {},
   "outputs": [],
   "source": [
    "def complement_a_deux(n):\n",
    "    \"\"\" Cette fonction transforme l'écriture décimale d'un nombre entier entre -127 et 127 en son écriture binaire\n",
    "    avec la méthode du complément à deux.\n",
    "    Entrée: le nombre en décimal\n",
    "    Sortie : Le nombre en binaire sous forme de chaêne de caractères\n",
    "    \"\"\"\n",
    "    if n < -128 or n > 127:\n",
    "        return \"erreur de saisie\"\n",
    "    if n > 0:\n",
    "        return octet(n)\n",
    "    else:\n",
    "        resultat = \"\"\n",
    "        chaine = octet(-n)\n",
    "        i = len(chaine)-1\n",
    "        while chaine[i] == '0':\n",
    "            resultat = chaine[i] + resultat\n",
    "            i = i-1\n",
    "        resultat = '1' + resultat\n",
    "        i = i-1\n",
    "        while i >= 0:\n",
    "            if chaine[i] == '0':\n",
    "                resultat = '1' + resultat\n",
    "            else:\n",
    "                resultat = '0' + resultat\n",
    "            i = i-1\n",
    "    return resultat\n",
    "assert(complement_a_deux(-547) == \"erreur de saisie\")\n",
    "assert(complement_a_deux(-18) == '11101110')"
   ]
  },
  {
   "cell_type": "code",
   "execution_count": 7,
   "metadata": {},
   "outputs": [
    {
     "data": {
      "text/plain": [
       "'11111010'"
      ]
     },
     "execution_count": 7,
     "metadata": {},
     "output_type": "execute_result"
    }
   ],
   "source": [
    "complement_a_deux(-6)\n"
   ]
  },
  {
   "cell_type": "code",
   "execution_count": null,
   "metadata": {},
   "outputs": [],
   "source": []
  }
 ],
 "metadata": {
  "kernelspec": {
   "display_name": "Python 3",
   "language": "python",
   "name": "python3"
  },
  "language_info": {
   "codemirror_mode": {
    "name": "ipython",
    "version": 3
   },
   "file_extension": ".py",
   "mimetype": "text/x-python",
   "name": "python",
   "nbconvert_exporter": "python",
   "pygments_lexer": "ipython3",
   "version": "3.7.3"
  }
 },
 "nbformat": 4,
 "nbformat_minor": 2
}
